{
 "cells": [
  {
   "cell_type": "markdown",
   "metadata": {},
   "source": [
    "# Video Streams\n",
    "## Computer Vision and Image Processing - Lab Session 5 - Exercises\n",
    "### Prof: Luigi Di Stefano, luigi.distefano@unibo.it\n",
    "### Tutor: Pierluigi Zama Ramirez, pierluigi.zama@unibo.it - Riccardo Spezialetti, riccardo.spezialetti@unibo.it"
   ]
  },
  {
   "cell_type": "markdown",
   "metadata": {},
   "source": [
    "## Exercise 0: Distance Functions between images\n",
    "\n",
    "Define three functions to calculate the $L_1$, $L_2$ and $L_{\\infty}$ distances between two images."
   ]
  },
  {
   "cell_type": "code",
   "execution_count": null,
   "metadata": {},
   "outputs": [],
   "source": [
    "# Write your solution here"
   ]
  },
  {
   "cell_type": "markdown",
   "metadata": {},
   "source": [
    "## Exercise 1: Two Frame Difference\n",
    "\n",
    "Calculate a Two Frame Difference over frames of a video to detect motion changes. Try different distance functions and visualize results. Test it on \"ex/1.avi\"."
   ]
  },
  {
   "cell_type": "code",
   "execution_count": null,
   "metadata": {},
   "outputs": [],
   "source": [
    "# Write your solution here"
   ]
  },
  {
   "cell_type": "markdown",
   "metadata": {},
   "source": [
    "## Exercise 2: Three Frame Difference\n",
    "\n",
    "Calculate a Three Frame Difference over frames of a video to detect motion changes. Try different distance functions and visualize results. Test it on \"ex/1.avi\"."
   ]
  },
  {
   "cell_type": "code",
   "execution_count": null,
   "metadata": {},
   "outputs": [],
   "source": [
    "# Write your solution here"
   ]
  },
  {
   "cell_type": "markdown",
   "metadata": {},
   "source": [
    "## Exercise 3: Background Subtraction\n",
    "\n",
    "Apply a background subtraction to all frames of a video to detect motion changes. \n",
    "\n",
    "To initialize a background image try:\n",
    "* Using only the first frame \n",
    "* Finding the mean or median over the first $n$ frames.\n",
    "\n",
    "Test it on \"ex/1.avi\"."
   ]
  },
  {
   "cell_type": "code",
   "execution_count": null,
   "metadata": {},
   "outputs": [],
   "source": [
    "# Write your solution here\n",
    "# Find the background image"
   ]
  },
  {
   "cell_type": "code",
   "execution_count": null,
   "metadata": {
    "scrolled": false
   },
   "outputs": [],
   "source": [
    "# Write your solution here\n",
    "# Apply the background subtraction"
   ]
  },
  {
   "cell_type": "markdown",
   "metadata": {},
   "source": [
    "## Exercise 4: Sobel Filter Frame-Wise\n",
    "\n",
    "Apply the Sobel kernels to calculate the smooth derivates $\\frac{dI(x, y)}{dx}$, $\\frac{dI(x, y)}{dy}$ along x and y respectively. Visualize the absolute value of the two results.\n",
    "Then, calculate the module of the gradient as $max(abs(\\frac{dI(x, y)}{dx}), abs(\\frac{dI(x, y)}{dy}))$. Do it for each frame of the video and visualize the results. Test it on \"ex/1.avi\"."
   ]
  },
  {
   "cell_type": "code",
   "execution_count": null,
   "metadata": {},
   "outputs": [],
   "source": [
    "# Write your solution here"
   ]
  }
 ],
 "metadata": {
  "kernelspec": {
   "display_name": "Python 3",
   "language": "python",
   "name": "python3"
  },
  "language_info": {
   "codemirror_mode": {
    "name": "ipython",
    "version": 3
   },
   "file_extension": ".py",
   "mimetype": "text/x-python",
   "name": "python",
   "nbconvert_exporter": "python",
   "pygments_lexer": "ipython3",
   "version": "3.7.1"
  }
 },
 "nbformat": 4,
 "nbformat_minor": 2
}
