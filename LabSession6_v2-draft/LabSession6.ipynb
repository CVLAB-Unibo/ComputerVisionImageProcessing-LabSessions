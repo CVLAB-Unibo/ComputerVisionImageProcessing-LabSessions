{
 "cells": [
  {
   "cell_type": "markdown",
   "metadata": {},
   "source": [
    "# Image Classification with Convolutional Neural Networks in Keras\n",
    "## Computer Vision and Image Processing - Lab Session 6\n",
    "### Prof: Luigi Di Stefano, luigi.distefano@unibo.it\n",
    "### Tutor: Pierluigi Zama Ramirez, pierluigi.zama@unibo.it - Alex Costanzino, alex.costanzino@unibo.it"
   ]
  },
  {
   "cell_type": "markdown",
   "metadata": {},
   "source": [
    "A **Convolutional Neural Network** (CNN) is a type of network architecture for deep learning algorithms, and it is widely employed in tasks that involve the processing of pixel data.\n",
    "\n",
    "<p align=\"center\">\n",
    "  <img src=\"LabSession6Images/cnn.png\" width=\"768\">\n",
    "</p>"
   ]
  },
  {
   "cell_type": "markdown",
   "metadata": {},
   "source": [
    "A CNN for image classification usually consists in three main layers: \n",
    "* A **convolutional layer** - for feature extraxtion;\n",
    "* A **pooling layer** - for dimensionality reduction;\n",
    "* A **fully connected layer** - for classification. "
   ]
  },
  {
   "cell_type": "markdown",
   "metadata": {},
   "source": [
    "## The image classification task\n",
    "Image classification is the task of *assigning a class label to an entire image*.\n",
    "In its simplest form, images are expected to include no more than one class (mutual exclusivity).\n",
    "\n",
    "<p align=\"center\">\n",
    "  <img src=\"LabSession6Images/image_classification.png\" width=\"768\">\n",
    "</p>\n",
    "\n",
    "Image classification models take an image as input and return a (crisp) prediction about which class the image belongs to."
   ]
  },
  {
   "cell_type": "markdown",
   "metadata": {},
   "source": [
    "## Framework for Neural Networks\n",
    "\n",
    "There are several frameworks for designing neural networks based in Python, among them:\n",
    "* [Caffe](https://caffe.berkeleyvision.org/);\n",
    "* [Lasagne](https://github.com/Lasagne/Lasagne);\n",
    "* TensorFlow;\n",
    "* Keras;\n",
    "* [MXNet](https://github.com/apache/mxnet);\n",
    "* [PyTorch](https://pytorch.org/).\n",
    "\n",
    "Each framework has its own goodies and drawbacks.\n",
    "\n",
    "### Keras & Tensorflow\n",
    "[TensorFlow](https://www.tensorflow.org/) is a machine learning framework employed to design, build, and train deep learning models. \n",
    "[Keras](https://keras.io/) is a simple API - built on top of TensorFlow - developed for fast experimentation.\n",
    "\n",
    "Since Keras is integrated into Tensorflow, we usually refer to one name rather than another interchangeably.\n",
    "\n",
    "Together they provide to the user intuitive interfaces for:\n",
    "* **Layers** (i.e. linear layer, convolutional layer);\n",
    "* **Activation functions** (i.e. sigmoid, ReLU, softmax);\n",
    "* **Loss functions** (i.e. cross-entropy, KL divergence);\n",
    "* **Regularizers**;\n",
    "* **Metrics** (i.e. accuracy, recall);\n",
    "* **Optimizers** (i.e. SGD, RMSprop);\n",
    "* **Models**;\n",
    "* **Datasets**;\n",
    "\n",
    "... and much more.\n",
    "\n",
    "For further details refer to the [official documentation](https://keras.io/api/).\n",
    "\n",
    "#### Pro and Cons\n",
    "\n",
    "For the scope of this session Tensorflow and Keras are adopted since:\n",
    "* The desing of neural network is straightforward, it suffices to stack layers;\n",
    "* The documentation is rather good and updated frequently;\n",
    "* There is a big community for support and model sharing (TensorFlow is a Google product).\n",
    "\n",
    "However, there are also some problems, such as:\n",
    "* There is less flexibility and usability compared to other frameworks;\n",
    "* Lower speed with respect to competitors;\n",
    "* There are some incosistencies: TensorFlow provides homonyms that share similar names but different implementations, which makes it confusing to remember and use."
   ]
  },
  {
   "cell_type": "markdown",
   "metadata": {},
   "source": [
    "## Implementing an Image Classifier with Keras\n",
    "\n",
    "A very *high-level pipeline* for experimenting with machine learning models is devised as follows:\n",
    "1. **Setup**;\n",
    "2. **Data preparation**, in which the data are managed, loaded, pre-processed - if necessary - and usually inspected for debugging purposes;\n",
    "3. **Model building**, in which the model is built, layer-by-layer thanks to the high-level interfaces provided by Keras;\n",
    "4. **Model training**, in which loss functions, metrics and optimizers are embedded to the model and the model parameters are optimized;\n",
    "5. **Model evaluation**, in which the trained model is applied to the test data to infer the new labels and to assess them."
   ]
  },
  {
   "cell_type": "markdown",
   "metadata": {},
   "source": [
    "### 1. Setup"
   ]
  },
  {
   "cell_type": "markdown",
   "metadata": {},
   "source": [
    "We import the usual libraries along with TensorFlow and fix the random seeds to a known value in order to make the experiments repeatable and check if everything it is correct.\n",
    "\n",
    "#### Modules and submodules\n",
    "Note that, unlike OpenCV, TensorFlow is *higly modularized*. Each model component has its own module and has to be accessed or imported following the path to the module.\n",
    "\n",
    "Let us say we want to use the convolutional layer of Keras `Conv2D`, we cannot directly call it as `keras.Conv2D` or `tensorflow.2D`, first of all since Keras itself it is a module of tensorflow, and so we need to access it as `tensorflow.keras`, but also because `Conv2D` is under the `layers` module of Keras. So, to correctly call `Conv2D` we can either:\n",
    "\n",
    "1. Import it from the submodule and assign it:\n",
    "```\n",
    "        tensorflow.keras.layers import Conv2D\n",
    "        x = Conv2D(*args)\n",
    "```\n",
    "2. Directly assign it:\n",
    "```\n",
    "        x = tensorflow.keras.layers.Conv2D(*args)\n",
    "```\n",
    "\n",
    "For the specific location of each object refer to the [official documentation](https://keras.io/api/)."
   ]
  },
  {
   "cell_type": "code",
   "execution_count": 1,
   "metadata": {
    "scrolled": false
   },
   "outputs": [],
   "source": [
    "import numpy as np\n",
    "import tensorflow as tf\n",
    "import matplotlib.pyplot as plt\n",
    "\n",
    "# Fixed random seed for repeatability.\n",
    "seed = 42\n",
    "tf.random.set_seed(seed)\n",
    "np.random.seed(seed)"
   ]
  },
  {
   "cell_type": "markdown",
   "metadata": {},
   "source": [
    "### 2. Dataset preparation"
   ]
  },
  {
   "cell_type": "markdown",
   "metadata": {},
   "source": [
    "#### Datasets and dataloaders\n",
    "The `tf.keras.datasets` module provides some ready-to-use toy datasets for several different machine learning task. \n",
    "Such datasets are already-vectorized in Numpy format and they are usually employed for debugging or creating simple models.\n",
    "\n",
    "However, Keras is also endowed with data loading utilities, located in `tf.keras.utils`, which help you go from raw data on disk to a `tf.data.Dataset` object that can be used to efficiently train a model.\n",
    "These loading utilites can be combined with preprocessing layers to futher transform your input dataset before training (i.e. data augmentation, normalization)."
   ]
  },
  {
   "cell_type": "markdown",
   "metadata": {},
   "source": [
    "*Example*\n",
    "\n",
    "Let us say you have 10 folders, each containing 1000 images from a different category, and you want to train a classifier that maps an image to its category. Then, your training data folder would look like this:\n",
    "```\n",
    "training_data/\n",
    "....dog/\n",
    ".......dog_0001.jpg\n",
    ".......dog_0002.jpg\n",
    ".\n",
    ".\n",
    ".\n",
    "....cat/\n",
    ".......cat_0001.jpg\n",
    ".......cat_0002.jpg\n",
    ".\n",
    ".\n",
    ".\n",
    "```\n",
    "You could simply do:\n",
    "\n",
    "```\n",
    "from tensorflow.utils import image_dataset_from_directory\n",
    "train_ds = image_dataset_from_directory(directory = 'path/to/your/data',\n",
    "                                        labels = 'inferred',\n",
    "                                        label_mode = 'categorical',\n",
    "                                        batch_size = 32,\n",
    "                                        image_size = (256, 256))\n",
    "```\n",
    "\n",
    "However, for this session we will use some Keras dataset."
   ]
  },
  {
   "cell_type": "markdown",
   "metadata": {},
   "source": [
    "##### Fashion-MNIST\n",
    "**Fashion-MNIST** is a dataset of Zalando's article images, consisting of a training set of 60k samples and a test set of 10k samples. Each sample is a 28x28 grayscale image, associated with a label from 10 different mutually exclusive classes.\n",
    "\n",
    "<p align=\"center\">\n",
    "  <img src=\"LabSession6Images/fashion-mnist.png\" width=\"512\">\n",
    "</p>"
   ]
  },
  {
   "cell_type": "markdown",
   "metadata": {},
   "source": [
    "#### Data loading\n",
    "To retrieve the dataset it suffices to import the dataset and call the `load_data()` method on it.\n",
    "The method will download, unzip and process the dataset in order to obtain a tuple for the training data and a tuple for the test data."
   ]
  },
  {
   "cell_type": "code",
   "execution_count": 2,
   "metadata": {},
   "outputs": [],
   "source": [
    "from tensorflow.keras.datasets import fashion_mnist\n",
    "\n",
    "(x_train, y_train), (x_test, y_test) = fashion_mnist.load_data();"
   ]
  },
  {
   "cell_type": "markdown",
   "metadata": {},
   "source": [
    "#### Data inspection\n",
    "There are several things that we can inspect in order to ensure that everything it is fine.\n",
    "For instance we can start by checking whether the expected number of samples and size of the images are correct:"
   ]
  },
  {
   "cell_type": "code",
   "execution_count": 3,
   "metadata": {},
   "outputs": [
    {
     "name": "stdout",
     "output_type": "stream",
     "text": [
      "There are 60000 samples in the training set, with size (28,28).\n",
      "There are 10000 samples in the test set with, size (28,28).\n",
      "There are 10 different classes.\n",
      "The unique labels are [0 1 2 3 4 5 6 7 8 9].\n"
     ]
    }
   ],
   "source": [
    "n_train, w_train, h_train = x_train.shape\n",
    "n_test, w_test, h_test = x_test.shape\n",
    "\n",
    "unique_labels = np.unique(y_train)\n",
    "n_classes = len(unique_labels) # N.B. np.unique(x) returns the list of unique values inside the array x.\n",
    "\n",
    "print(f\"There are {n_train} samples in the training set, with size ({w_train},{h_train}).\")\n",
    "print(f\"There are {n_test} samples in the test set with, size ({w_test},{h_test}).\")\n",
    "print(f\"There are {n_classes} different classes.\")\n",
    "print(f\"The unique labels are {unique_labels}.\")"
   ]
  },
  {
   "cell_type": "markdown",
   "metadata": {},
   "source": [
    "Note that checking the number of classes by checking the number of unique values in the training set means that we are hypothesizing that the class distribution of the input data it is the same of the output data, i.e. every class in the test set is also in the training set."
   ]
  },
  {
   "cell_type": "markdown",
   "metadata": {},
   "source": [
    "Let us then extract a random index to visually inspect some images of the training set:"
   ]
  },
  {
   "cell_type": "code",
   "execution_count": 4,
   "metadata": {},
   "outputs": [
    {
     "data": {
      "image/png": "[encoded data removed]",
      "text/plain": [
       "<Figure size 3000x600 with 20 Axes>"
      ]
     },
     "metadata": {},
     "output_type": "display_data"
    }
   ],
   "source": [
    "rand_idx = np.random.randint(0, x_train.shape[0])\n",
    "\n",
    "fig, ax = plt.subplots(2, 10, figsize=(30, 6))\n",
    "ax = ax.ravel()\n",
    "\n",
    "for i in range(20):\n",
    "    rand_idx = np.random.randint(0, x_train.shape[0])\n",
    "\n",
    "    ax[i].set_axis_off()\n",
    "    \n",
    "    ax[i].set_title(f\"Class {y_train[rand_idx]}\")\n",
    "    ax[i].imshow(x_train[rand_idx], vmin = x_train[rand_idx].min(), vmax = x_train[rand_idx].max(), cmap = \"gray\")"
   ]
  },
  {
   "cell_type": "markdown",
   "metadata": {},
   "source": [
    "Then, we can check the range of these images:"
   ]
  },
  {
   "cell_type": "code",
   "execution_count": 5,
   "metadata": {},
   "outputs": [
    {
     "name": "stdout",
     "output_type": "stream",
     "text": [
      "The images are in the range [0,255].\n"
     ]
    }
   ],
   "source": [
    "print(f\"The images are in the range [{x_train.min()},{x_train.max()}].\")"
   ]
  },
  {
   "cell_type": "markdown",
   "metadata": {},
   "source": [
    "Of course we know that these images are all in the range $[0,255]$."
   ]
  },
  {
   "cell_type": "markdown",
   "metadata": {},
   "source": [
    "#### Data normalization\n",
    "In general it is a good practice to normalize the input data of a machine learning model (for certain kind of model it can be also mandatory) for two main reasons:\n",
    "1. After normalization all data lies in the same interval and so metric and losses based on similarities make sense;\n",
    "2. Smaller data begets smaller weights and hence a more efficient learning.\n",
    "\n",
    "In this case a simple rescaling in the $[0,1]$ range it suffices:"
   ]
  },
  {
   "cell_type": "code",
   "execution_count": 6,
   "metadata": {},
   "outputs": [
    {
     "name": "stdout",
     "output_type": "stream",
     "text": [
      "The new range of the images is [0.0,1.0].\n"
     ]
    }
   ],
   "source": [
    "x_train = x_train / x_train.max()\n",
    "x_test = x_test / x_test.max()\n",
    "\n",
    "print(f\"The new range of the images is [{x_train.min()},{x_train.max()}].\")"
   ]
  },
  {
   "cell_type": "markdown",
   "metadata": {},
   "source": [
    "Then, since these images are grayscale we need to add a dimension that takes into account the dimensionality of the channel:"
   ]
  },
  {
   "cell_type": "code",
   "execution_count": 7,
   "metadata": {},
   "outputs": [
    {
     "name": "stdout",
     "output_type": "stream",
     "text": [
      "The new shape of the feature matrix is: (60000, 28, 28, 1).\n"
     ]
    }
   ],
   "source": [
    "x_train = np.expand_dims(x_train, -1)\n",
    "x_test = np.expand_dims(x_test, -1)\n",
    "\n",
    "print(f\"The new shape of the feature matrix is: {x_train.shape}.\")"
   ]
  },
  {
   "cell_type": "markdown",
   "metadata": {},
   "source": [
    "In case of RGB images this is not necessary since they already have 3 channels."
   ]
  },
  {
   "cell_type": "markdown",
   "metadata": {},
   "source": [
    "### 3. Model building"
   ]
  },
  {
   "cell_type": "markdown",
   "metadata": {},
   "source": [
    "As mentioned before, we need to extract from the `layers` submodule the layers of interest:"
   ]
  },
  {
   "cell_type": "code",
   "execution_count": 8,
   "metadata": {},
   "outputs": [],
   "source": [
    "from tensorflow.keras import Sequential\n",
    "from tensorflow.keras.layers import Input, Conv2D, MaxPooling2D, Dense, Flatten, Dropout"
   ]
  },
  {
   "cell_type": "markdown",
   "metadata": {},
   "source": [
    "Here listed some simplified interfaces of layers that we will employ:\n",
    "* `Input(shape)` - we can specify the shape of the input, in the form (h,w,c);\n",
    "* `Flatten()`;\n",
    "* `Dense(units, activation)` - we can specify the number of neurons - in the case of classification equal to the number of classes - and the type of activation function of the output;\n",
    "* `MaxPooling2D(pool_size)` - we can specify the size of the pooling - bidimensional since we are using a 2d pooiling;\n",
    "* `Dropout(rate)` - we can specify the percentage of blacked-out neurons.\n",
    "* `Conv2D(filters, kernel_size, activation)` - we can specify the number of stacked filters, the size of the kernel - bidimensional since we are using a 2d convolution, and the type of activation function of the output.\n",
    "\n",
    "\n",
    "<p align=\"center\">\n",
    "  <img src=\"LabSession6Images/conv2d_.png\" width=\"512\" class=\"center\">\n",
    "</p>"
   ]
  },
  {
   "cell_type": "code",
   "execution_count": 9,
   "metadata": {},
   "outputs": [
    {
     "name": "stdout",
     "output_type": "stream",
     "text": [
      "The input shape of the CNN is (28, 28, 1).\n"
     ]
    }
   ],
   "source": [
    "input_shape = x_train.shape[1:]\n",
    "print(f\"The input shape of the CNN is {input_shape}.\")"
   ]
  },
  {
   "cell_type": "markdown",
   "metadata": {},
   "source": [
    "We can leverage on Keras sequential model to easily build our neural network as a stack of layers:"
   ]
  },
  {
   "cell_type": "code",
   "execution_count": 10,
   "metadata": {},
   "outputs": [],
   "source": [
    "model = Sequential(\n",
    "    [   \n",
    "        # Input layer.\n",
    "        Input(shape = input_shape),\n",
    "\n",
    "        # Convolutions with subsequent pooling.\n",
    "        Conv2D(filters = 32, kernel_size = (3, 3), activation = \"relu\"),\n",
    "        MaxPooling2D(pool_size = (2, 2)),\n",
    "        Conv2D(filters = 64, kernel_size = (3, 3), activation = \"relu\"),\n",
    "        MaxPooling2D(pool_size = (2, 2)),\n",
    "\n",
    "        # Classification head.\n",
    "        Flatten(),\n",
    "        Dropout(rate = 0.15),\n",
    "        Dense(units = n_classes, activation = \"softmax\"),\n",
    "    ]\n",
    ")"
   ]
  },
  {
   "cell_type": "markdown",
   "metadata": {},
   "source": [
    "Once that the net is built we can use the `summary()` method to obtain a nice overview of the model:"
   ]
  },
  {
   "cell_type": "code",
   "execution_count": 11,
   "metadata": {},
   "outputs": [
    {
     "name": "stdout",
     "output_type": "stream",
     "text": [
      "Model: \"sequential\"\n",
      "_________________________________________________________________\n",
      " Layer (type)                Output Shape              Param #   \n",
      "=================================================================\n",
      " conv2d (Conv2D)             (None, 26, 26, 32)        320       \n",
      "                                                                 \n",
      " max_pooling2d (MaxPooling2D  (None, 13, 13, 32)       0         \n",
      " )                                                               \n",
      "                                                                 \n",
      " conv2d_1 (Conv2D)           (None, 11, 11, 64)        18496     \n",
      "                                                                 \n",
      " max_pooling2d_1 (MaxPooling  (None, 5, 5, 64)         0         \n",
      " 2D)                                                             \n",
      "                                                                 \n",
      " flatten (Flatten)           (None, 1600)              0         \n",
      "                                                                 \n",
      " dropout (Dropout)           (None, 1600)              0         \n",
      "                                                                 \n",
      " dense (Dense)               (None, 10)                16010     \n",
      "                                                                 \n",
      "=================================================================\n",
      "Total params: 34,826\n",
      "Trainable params: 34,826\n",
      "Non-trainable params: 0\n",
      "_________________________________________________________________\n"
     ]
    }
   ],
   "source": [
    "model.summary()"
   ]
  },
  {
   "cell_type": "markdown",
   "metadata": {},
   "source": [
    "### 4. Model training"
   ]
  },
  {
   "cell_type": "markdown",
   "metadata": {},
   "source": [
    "As before, we need to extract from the `optimizers` and `losses` submodules the objects of interest:"
   ]
  },
  {
   "cell_type": "code",
   "execution_count": 12,
   "metadata": {},
   "outputs": [],
   "source": [
    "from tensorflow.keras.optimizers import SGD\n",
    "from tensorflow.keras.losses import SparseCategoricalCrossentropy\n",
    "\n",
    "opt = SGD(learning_rate = 1e-3)\n",
    "loss_fcn = SparseCategoricalCrossentropy()"
   ]
  },
  {
   "cell_type": "markdown",
   "metadata": {},
   "source": [
    "And we add them to the model:"
   ]
  },
  {
   "cell_type": "code",
   "execution_count": 13,
   "metadata": {},
   "outputs": [],
   "source": [
    "model.compile(loss = loss_fcn, \n",
    "              optimizer = opt, \n",
    "              metrics = [\"accuracy\"])"
   ]
  },
  {
   "cell_type": "markdown",
   "metadata": {},
   "source": [
    "Then, we set some others hyperparameters, such as:\n",
    "* `batch_size` - number of samples that will be propagated through the network at each iteration;\n",
    "* `epochs` - number of complete pass on the training data;\n",
    "\n",
    "and also:\n",
    "* `val_split_percentage` - percentage of training data to reserve as validation at each iteration."
   ]
  },
  {
   "cell_type": "code",
   "execution_count": 14,
   "metadata": {},
   "outputs": [],
   "source": [
    "batch_size = 128\n",
    "epochs = 20\n",
    "val_split_percentage = 0.1"
   ]
  },
  {
   "cell_type": "code",
   "execution_count": 18,
   "metadata": {},
   "outputs": [
    {
     "name": "stdout",
     "output_type": "stream",
     "text": [
      "Epoch 1/20\n",
      "329/329 [==============================] - 6s 17ms/step - loss: 0.7937 - accuracy: 0.7110 - val_loss: 0.7323 - val_accuracy: 0.7414\n",
      "Epoch 2/20\n",
      "329/329 [==============================] - 6s 17ms/step - loss: 0.7824 - accuracy: 0.7137 - val_loss: 0.7173 - val_accuracy: 0.7446\n",
      "Epoch 3/20\n",
      "329/329 [==============================] - 6s 18ms/step - loss: 0.7755 - accuracy: 0.7163 - val_loss: 0.7103 - val_accuracy: 0.7489\n",
      "Epoch 4/20\n",
      "329/329 [==============================] - 6s 17ms/step - loss: 0.7638 - accuracy: 0.7181 - val_loss: 0.7025 - val_accuracy: 0.7524\n",
      "Epoch 5/20\n",
      "329/329 [==============================] - 6s 17ms/step - loss: 0.7537 - accuracy: 0.7237 - val_loss: 0.6956 - val_accuracy: 0.7511\n",
      "Epoch 6/20\n",
      "329/329 [==============================] - 6s 18ms/step - loss: 0.7462 - accuracy: 0.7258 - val_loss: 0.6944 - val_accuracy: 0.7444\n",
      "Epoch 7/20\n",
      "329/329 [==============================] - 6s 17ms/step - loss: 0.7381 - accuracy: 0.7299 - val_loss: 0.6797 - val_accuracy: 0.7569\n",
      "Epoch 8/20\n",
      "329/329 [==============================] - 6s 18ms/step - loss: 0.7300 - accuracy: 0.7331 - val_loss: 0.6776 - val_accuracy: 0.7574\n",
      "Epoch 9/20\n",
      "329/329 [==============================] - 6s 18ms/step - loss: 0.7235 - accuracy: 0.7339 - val_loss: 0.6708 - val_accuracy: 0.7583\n",
      "Epoch 10/20\n",
      "329/329 [==============================] - 6s 17ms/step - loss: 0.7193 - accuracy: 0.7379 - val_loss: 0.6618 - val_accuracy: 0.7609\n",
      "Epoch 11/20\n",
      "329/329 [==============================] - 6s 18ms/step - loss: 0.7099 - accuracy: 0.7415 - val_loss: 0.6562 - val_accuracy: 0.7624\n",
      "Epoch 12/20\n",
      "329/329 [==============================] - 6s 17ms/step - loss: 0.7030 - accuracy: 0.7403 - val_loss: 0.6524 - val_accuracy: 0.7624\n",
      "Epoch 13/20\n",
      "329/329 [==============================] - 6s 17ms/step - loss: 0.6956 - accuracy: 0.7443 - val_loss: 0.6521 - val_accuracy: 0.7574\n",
      "Epoch 14/20\n",
      "329/329 [==============================] - 6s 17ms/step - loss: 0.6900 - accuracy: 0.7454 - val_loss: 0.6414 - val_accuracy: 0.7667\n",
      "Epoch 15/20\n",
      "329/329 [==============================] - 6s 17ms/step - loss: 0.6851 - accuracy: 0.7484 - val_loss: 0.6353 - val_accuracy: 0.7692\n",
      "Epoch 16/20\n",
      "329/329 [==============================] - 6s 17ms/step - loss: 0.6785 - accuracy: 0.7497 - val_loss: 0.6309 - val_accuracy: 0.7711\n",
      "Epoch 17/20\n",
      "329/329 [==============================] - 6s 17ms/step - loss: 0.6710 - accuracy: 0.7539 - val_loss: 0.6273 - val_accuracy: 0.7713\n",
      "Epoch 18/20\n",
      "329/329 [==============================] - 6s 18ms/step - loss: 0.6722 - accuracy: 0.7527 - val_loss: 0.6226 - val_accuracy: 0.7749\n",
      "Epoch 19/20\n",
      "329/329 [==============================] - 6s 18ms/step - loss: 0.6634 - accuracy: 0.7553 - val_loss: 0.6193 - val_accuracy: 0.7754\n",
      "Epoch 20/20\n",
      "329/329 [==============================] - 6s 17ms/step - loss: 0.6589 - accuracy: 0.7544 - val_loss: 0.6159 - val_accuracy: 0.7768\n"
     ]
    }
   ],
   "source": [
    "model.fit(x_train, y_train, batch_size = batch_size, epochs = epochs, validation_split = val_split_percentage);"
   ]
  },
  {
   "cell_type": "markdown",
   "metadata": {},
   "source": [
    "### 5. Model evaluation"
   ]
  },
  {
   "cell_type": "markdown",
   "metadata": {},
   "source": [
    "We can also visualize the model accuracy and loss for the training and the validation sets. \n",
    "Since the validation set is class-balanced, accuracy provides an unbiased representation of the model's performance."
   ]
  },
  {
   "cell_type": "code",
   "execution_count": 16,
   "metadata": {},
   "outputs": [
    {
     "data": {
      "image/png": "[encoded data removed]",
      "text/plain": [
       "<Figure size 2000x300 with 2 Axes>"
      ]
     },
     "metadata": {},
     "output_type": "display_data"
    }
   ],
   "source": [
    "fig, ax = plt.subplots(1, 2, figsize=(20, 3))\n",
    "ax = ax.ravel()\n",
    "\n",
    "for i, metric in enumerate([\"accuracy\", \"loss\"]):\n",
    "    ax[i].plot(model.history.history[metric])\n",
    "    ax[i].plot(model.history.history[\"val_\" + metric])\n",
    "    ax[i].set_title(\"Model {}\".format(metric))\n",
    "    ax[i].set_xlabel(\"epochs\")\n",
    "    ax[i].set_ylabel(metric)\n",
    "    ax[i].legend([\"train\", \"val\"])\n"
   ]
  },
  {
   "cell_type": "markdown",
   "metadata": {},
   "source": [
    "Then, we can perform inference on the test data and assess the metrics:"
   ]
  },
  {
   "cell_type": "code",
   "execution_count": 17,
   "metadata": {},
   "outputs": [
    {
     "name": "stdout",
     "output_type": "stream",
     "text": [
      "313/313 [==============================] - 1s 2ms/step - loss: 0.7607 - accuracy: 0.7258\n",
      "The test loss is 0.7607, the test accuracy is 0.7258.\n"
     ]
    }
   ],
   "source": [
    "test_loss, test_metric = model.evaluate(x_test, y_test, verbose = 1)\n",
    "print(f\"The test loss is {test_loss:.4f}, the test accuracy is {test_metric:.4f}.\")"
   ]
  }
 ],
 "metadata": {
  "kernelspec": {
   "display_name": "Python 3.10.8 64-bit",
   "language": "python",
   "name": "python3"
  },
  "language_info": {
   "codemirror_mode": {
    "name": "ipython",
    "version": 3
   },
   "file_extension": ".py",
   "mimetype": "text/x-python",
   "name": "python",
   "nbconvert_exporter": "python",
   "pygments_lexer": "ipython3",
   "version": "3.10.8"
  },
  "vscode": {
   "interpreter": {
    "hash": "b0fa6594d8f4cbf19f97940f81e996739fb7646882a419484c72d19e05852a7e"
   }
  }
 },
 "nbformat": 4,
 "nbformat_minor": 2
}
