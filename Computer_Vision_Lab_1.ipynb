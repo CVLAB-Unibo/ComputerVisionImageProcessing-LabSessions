{
 "cells": [
  {
   "cell_type": "markdown",
   "metadata": {
    "colab_type": "text",
    "id": "7xTc4pxLN2jD"
   },
   "source": [
    "# 1. Import Libraries"
   ]
  },
  {
   "cell_type": "markdown",
   "metadata": {
    "colab_type": "text",
    "id": "RN44ww8QN7lY"
   },
   "source": [
    "The python keywork **import** is used to include a library in the script.\n",
    "\n",
    "In this example we will import these libraries:\n",
    "\n",
    "*   **cv2** is the Opencv Library.\n",
    "*   **numpy** is the Linear Algebra Library, it is used for vector and matrices operations.\n",
    "*   **matplotlib** is the Plot Library, it is used to show images and general plot curves.\n",
    "\n",
    "The following snippet import all the above mentioned libraries:"
   ]
  },
  {
   "cell_type": "code",
   "execution_count": 0,
   "metadata": {
    "colab": {},
    "colab_type": "code",
    "id": "cIpBFlKpMsn3"
   },
   "outputs": [],
   "source": [
    "import cv2\n",
    "import numpy as np\n",
    "import matplotlib\n",
    "%matplotlib inline"
   ]
  },
  {
   "cell_type": "markdown",
   "metadata": {
    "colab_type": "text",
    "id": "yzBOKWvGPYHV"
   },
   "source": [
    "To test if your import succeds, we can print each library version number:"
   ]
  },
  {
   "cell_type": "code",
   "execution_count": 0,
   "metadata": {
    "colab": {},
    "colab_type": "code",
    "id": "7qib-6HeOvrn"
   },
   "outputs": [],
   "source": [
    "print(\"The OpenCV version is:\", cv2.__version__)\n",
    "print(\"The Numpy version is:\",np.__version__)\n",
    "print(\"The Matplotlib version is:\",matplotlib.__version__)"
   ]
  },
  {
   "cell_type": "markdown",
   "metadata": {
    "colab_type": "text",
    "id": "8lSls_wqQBRs"
   },
   "source": [
    "# 2. Load an image"
   ]
  },
  {
   "cell_type": "markdown",
   "metadata": {
    "colab_type": "text",
    "id": "3KMH-xOeOwfO"
   },
   "source": [
    "First of all we learn to upload media files in this web application in order to have some image data to work on. \n",
    "\n",
    "*   Download the image at this url:  https://mr.comingsoon.it/imgdb/PrimoPiano/75080_ppl.jpg;\n",
    "*   Save it in your computer;\n",
    "*   Rename it as \"avengers.jpg\";\n",
    "*   Upload it in this left panel, under the \"Files\" tab.\n",
    "\n",
    "You should now see your \"avengers.jpg\" file in the left panel. Hence, this file can be used inside your script. With the following snippet you will load the image:\n"
   ]
  },
  {
   "cell_type": "code",
   "execution_count": 0,
   "metadata": {
    "colab": {},
    "colab_type": "code",
    "id": "_Vz0LclFMtSi"
   },
   "outputs": [],
   "source": [
    "image = cv2.imread('avengers.jpg')"
   ]
  },
  {
   "cell_type": "markdown",
   "metadata": {
    "colab_type": "text",
    "id": "JhTWOhQKRsu4"
   },
   "source": [
    "The function **cv2.imread(*filename*)** load the image from the *filename* path. \n",
    "\n",
    "To test if the loading procedure is fine, we will print the \"shape\" of the loaded image (The \"shape\" means the **Height** and the **Width** of the image, along with the numbers of channels, i.e. the **Depth**):"
   ]
  },
  {
   "cell_type": "code",
   "execution_count": 0,
   "metadata": {
    "colab": {},
    "colab_type": "code",
    "id": "R6Py5e5QRnsi"
   },
   "outputs": [],
   "source": [
    "print(image.shape)"
   ]
  },
  {
   "cell_type": "markdown",
   "metadata": {
    "colab_type": "text",
    "id": "UxakdPCBSUjI"
   },
   "source": [
    "You should see:\n",
    "\n",
    "```\n",
    "(360, 644, 3)\n",
    "```\n",
    "\n",
    "this means that your image has an **Height = 360**, a **Width = 644** and a **Depth = 3**. This is a *TUPLE*, i.e. a collection of multiple values. To access each value of the tuple you can use the same syntax of vector, then:\n"
   ]
  },
  {
   "cell_type": "code",
   "execution_count": 0,
   "metadata": {
    "colab": {},
    "colab_type": "code",
    "id": "O1rlSTHRSOzt"
   },
   "outputs": [],
   "source": [
    "height = image.shape[0]\n",
    "width = image.shape[1]\n",
    "depth = image.shape[2]"
   ]
  },
  {
   "cell_type": "markdown",
   "metadata": {
    "colab_type": "text",
    "id": "UVhED5jRTxGX"
   },
   "source": [
    "Then print it separately:"
   ]
  },
  {
   "cell_type": "code",
   "execution_count": 0,
   "metadata": {
    "colab": {},
    "colab_type": "code",
    "id": "_kalKjRPTrMm"
   },
   "outputs": [],
   "source": [
    "print(\"The Height is:\",height)\n",
    "print(\"The Width is: \",width)\n",
    "print(\"The Depth is: \",depth)"
   ]
  },
  {
   "cell_type": "code",
   "execution_count": 0,
   "metadata": {
    "colab": {},
    "colab_type": "code",
    "id": "QM87f9hXTuku"
   },
   "outputs": [],
   "source": []
  },
  {
   "cell_type": "markdown",
   "metadata": {
    "colab_type": "text",
    "id": "XnAqkecSVyws"
   },
   "source": [
    "# 3. Display the image"
   ]
  },
  {
   "cell_type": "markdown",
   "metadata": {
    "colab_type": "text",
    "id": "K-3F5M0ZV1jO"
   },
   "source": [
    "It is important to us humans to see our results! So we will plot the image inside the web page:"
   ]
  },
  {
   "cell_type": "code",
   "execution_count": 0,
   "metadata": {
    "colab": {},
    "colab_type": "code",
    "id": "liLSvGB_V0uy"
   },
   "outputs": [],
   "source": [
    "matplotlib.pyplot.imshow(image)"
   ]
  },
  {
   "cell_type": "markdown",
   "metadata": {
    "colab_type": "text",
    "id": "OeXBR3y0XO3W"
   },
   "source": [
    "Why are the colors strange? Usually, colored images have 3 channels: **Red**, **Green** and **Blue** (**RGB**). OpenCV, instead, interprets images as **Blue**, **Green** and **Red (**BGR**). It is just a convention. So if you want to  plot images with original colors using the library **matplotlib**, you need a conversion!"
   ]
  },
  {
   "cell_type": "code",
   "execution_count": 0,
   "metadata": {
    "colab": {},
    "colab_type": "code",
    "id": "TSgeGQB5WHj3"
   },
   "outputs": [],
   "source": [
    "image_rgb = cv2.cvtColor(image,cv2.COLOR_BGR2RGB)"
   ]
  },
  {
   "cell_type": "markdown",
   "metadata": {
    "colab_type": "text",
    "id": "wF-1XhViYxxI"
   },
   "source": [
    "And then, plot the new version:"
   ]
  },
  {
   "cell_type": "code",
   "execution_count": 0,
   "metadata": {
    "colab": {},
    "colab_type": "code",
    "id": "_pTUlinPYvLO"
   },
   "outputs": [],
   "source": [
    "matplotlib.pyplot.imshow(image_rgb)"
   ]
  },
  {
   "cell_type": "markdown",
   "metadata": {
    "colab_type": "text",
    "id": "W592P6k4ZeXo"
   },
   "source": [
    "The function **cv2.cvtColor(*image*,*converstion_type*)** will return the modified version of the original *image* applying the conversion represented by *converstion_type*. In this case the *converstion_type* is **cv2.COLOR_BGR2RGB** that means a converstion from BGR to RGB (the number 2 is usually used in these situations because it has the same pronunciation of *to*)."
   ]
  },
  {
   "cell_type": "markdown",
   "metadata": {
    "colab_type": "text",
    "id": "MP21kdTnawfe"
   },
   "source": [
    "# 4. Access Image Pixels"
   ]
  },
  {
   "cell_type": "markdown",
   "metadata": {
    "colab_type": "text",
    "id": "NQpQJepPa9k5"
   },
   "source": [
    "In Python the image is represented as a Matrix. Eeach element of the matrix represents one **pixel**. Given that a color image has 3 channels, our representation is not a simple Matrix, but is an extened version of matrix called **Tensor**. Don't worry about it! It is just a Matrix with 3 dimensions. \n",
    "\n",
    "So let's try to access one random pixel. For example one belonging to the Ironman's suit:\n",
    "\n"
   ]
  },
  {
   "cell_type": "code",
   "execution_count": 0,
   "metadata": {
    "colab": {},
    "colab_type": "code",
    "id": "2Jhpn4Mma6wX"
   },
   "outputs": [],
   "source": [
    "ironman_pixel = image[335,560]\n",
    "print(\"The pixel value is:\",ironman_pixel)"
   ]
  },
  {
   "cell_type": "markdown",
   "metadata": {
    "colab_type": "text",
    "id": "HPAi1kMluMfE"
   },
   "source": [
    "With the previous notation we accessed to the pixel with $row=335, column=560$. "
   ]
  },
  {
   "cell_type": "markdown",
   "metadata": {
    "colab_type": "text",
    "id": "GK5OaG_ud8bq"
   },
   "source": [
    "As you can see, it is a vector and not a single value! Because we have 3 color channels. Each channel has values between 0-255.\n",
    "\n",
    "Given that it is a vector, we can access each single value with the square brackets operator (like seen in **Section 2** for Tuples):"
   ]
  },
  {
   "cell_type": "code",
   "execution_count": 0,
   "metadata": {
    "colab": {},
    "colab_type": "code",
    "id": "dZCFjw1bY1sW"
   },
   "outputs": [],
   "source": [
    "blue = ironman_pixel[0]\n",
    "green = ironman_pixel[1]\n",
    "red = ironman_pixel[2]\n",
    "print(\"The BGR value of the pixel is: B={},G={},R={}\".format(blue,green,red))"
   ]
  },
  {
   "cell_type": "markdown",
   "metadata": {
    "colab_type": "text",
    "id": "qWaxplqtfCEx"
   },
   "source": [
    "As expected, the dominant color is **red** so the *red* value is higher than the *blue* and *green* values. What about an hulk pixel?"
   ]
  },
  {
   "cell_type": "code",
   "execution_count": 0,
   "metadata": {
    "colab": {},
    "colab_type": "code",
    "id": "rGjY-rQtc6WF"
   },
   "outputs": [],
   "source": [
    "# Pixel vector\n",
    "hulk_pixel = image[181,452]\n",
    "\n",
    "# Separated colors\n",
    "hulk_pixel_blue =  image[181,452,0]\n",
    "hulk_pixel_green = image[181,452,1]\n",
    "hulk_pixel_red =   image[181,452,2]\n",
    "\n",
    "print(\"The BGR value of the pixel is: B={},G={},R={}\".format(hulk_pixel_blue,hulk_pixel_green,hulk_pixel_red))"
   ]
  },
  {
   "cell_type": "markdown",
   "metadata": {
    "colab_type": "text",
    "id": "7X3sBKSxgOBj"
   },
   "source": [
    "In the previous example we have shown first of all that Hulk is GREEN! .. than we used another method to access image pixels. With two indices we access the image pixel:\n",
    "\n",
    "```\n",
    "pixel = image[335,560]\n",
    "```\n",
    "\n",
    "Hence, we address each pixel component with another index:\n",
    "\n",
    "\n",
    "```\n",
    "red = pixel[2]\n",
    "```\n",
    "\n",
    "Or we can retrieve the pixel component directly with 3 indices:\n",
    "\n",
    "\n",
    "\n",
    "```\n",
    "pixel_red = image[335,560,2]\n",
    "```\n",
    "\n",
    "\n",
    "\n",
    "\n",
    "\n"
   ]
  },
  {
   "cell_type": "markdown",
   "metadata": {
    "colab_type": "text",
    "id": "EDAY6GNSjLO4"
   },
   "source": [
    "Now try to print each component of the pixel belonging to the **Thanos** head:"
   ]
  },
  {
   "cell_type": "code",
   "execution_count": 0,
   "metadata": {
    "colab": {},
    "colab_type": "code",
    "id": "T_dFXTODjQre"
   },
   "outputs": [],
   "source": [
    "thanos_pixel = image[70,340]\n",
    "\n",
    "#Extract the three pixel components\n",
    "<Insert your code here>\n",
    "<Insert your code here>\n",
    "<Insert your code here>\n",
    "\n",
    "#Print the three pixel components\n",
    "print(\"The BGR value of the pixel is:\", <Insert your code here>)\n"
   ]
  },
  {
   "cell_type": "markdown",
   "metadata": {
    "colab_type": "text",
    "id": "ATs-0E3EhYk5"
   },
   "source": [
    "# 5. Access Image Region of Interests (ROIs)"
   ]
  },
  {
   "cell_type": "markdown",
   "metadata": {
    "colab_type": "text",
    "id": "TyhI6qB4hlLN"
   },
   "source": [
    "In the previous section we have seen how to access to single pixels. But what about a bigger portion of the image? For example in the following snippet we will retriev the head of **Captain America**:"
   ]
  },
  {
   "cell_type": "code",
   "execution_count": 0,
   "metadata": {
    "colab": {},
    "colab_type": "code",
    "id": "6C-K9IqQfZAK"
   },
   "outputs": [],
   "source": [
    "captain_america_head_image = image_rgb[180:320, 70:160]"
   ]
  },
  {
   "cell_type": "markdown",
   "metadata": {
    "colab_type": "text",
    "id": "cB0xCxyltGZg"
   },
   "source": [
    "If we use the **colon** operator \"\"**:**\"\" in the index, e.g. *180:320*, we retrieve a **range** instead of a single value, so we retrieve each element in the range $[180,320)$ with the last element excluded. So the previous code will retrieve the portion of the image with $row \\in [180,320), column \\in [70,180)$."
   ]
  },
  {
   "cell_type": "markdown",
   "metadata": {
    "colab_type": "text",
    "id": "1vB2seREiZS_"
   },
   "source": [
    "Then show it:"
   ]
  },
  {
   "cell_type": "code",
   "execution_count": 0,
   "metadata": {
    "colab": {},
    "colab_type": "code",
    "id": "_6s0sWXgiJr1"
   },
   "outputs": [],
   "source": [
    "matplotlib.pyplot.imshow(captain_america_head_image)"
   ]
  },
  {
   "cell_type": "markdown",
   "metadata": {
    "colab_type": "text",
    "id": "7Rp5L40qihh2"
   },
   "source": [
    "Try to show the **Thor** head:"
   ]
  },
  {
   "cell_type": "code",
   "execution_count": 0,
   "metadata": {
    "colab": {},
    "colab_type": "code",
    "id": "_ATRLq7NipWF"
   },
   "outputs": [],
   "source": [
    "# Extract the portion of the image\n",
    "thor_head_image = <Insert your code here>\n",
    "\n",
    "# Display the image\n",
    "<Insert your code here>\n"
   ]
  },
  {
   "cell_type": "markdown",
   "metadata": {
    "colab_type": "text",
    "id": "HpTR2pz_mPga"
   },
   "source": [
    "# 6. Grayscale Images vs Colored Images"
   ]
  },
  {
   "cell_type": "markdown",
   "metadata": {
    "colab_type": "text",
    "id": "Ltp2moYHm3hJ"
   },
   "source": [
    "In the previous sections we managed colored image only. But what about grayscale images? First of all download this zip file:\n",
    "\n",
    "http://didattica.arces.unibo.it/file.php/59/Elaborazione_dellImmagine_L-S/Esercitazioni/workimages1.zip\n",
    "\n",
    "This file contains several sample grayscale images. Upload into the left panel the \"lenna.bmp\" file. Then try to load it:"
   ]
  },
  {
   "cell_type": "code",
   "execution_count": 0,
   "metadata": {
    "colab": {},
    "colab_type": "code",
    "id": "_AAacTe6i3EV"
   },
   "outputs": [],
   "source": [
    "grayscale_image = cv2.imread('lenna.bmp',cv2.IMREAD_GRAYSCALE)\n",
    "print(\"The shape of this Grayscale Image is:\", grayscale_image.shape)"
   ]
  },
  {
   "cell_type": "markdown",
   "metadata": {
    "colab_type": "text",
    "id": "Kt6Psl64nbIo"
   },
   "source": [
    "Notice something different? \n",
    "First of all we used another argument in **cv2.imread(*filename*,*flags*)**, i.e. *flags*. If we set *flags=0* we load the grayscale version of the *filename* image. Thus, we printed its shape noticing that it has only two values: **Height=256, Width=255**. There is no **Depth** because a grayscale image is a single channel image."
   ]
  },
  {
   "cell_type": "markdown",
   "metadata": {
    "colab_type": "text",
    "id": "PgxogpZ8saMA"
   },
   "source": [
    "Try to extract the Height and the Width of the grayscale image:"
   ]
  },
  {
   "cell_type": "code",
   "execution_count": 0,
   "metadata": {
    "colab": {},
    "colab_type": "code",
    "id": "yP1VPff6sdxR"
   },
   "outputs": [],
   "source": [
    "height = <Insert your code here>\n",
    "width = <Insert your code here>\n",
    "print(\"The width and the height of the grayscale image are:\",<Insert your code here>)"
   ]
  },
  {
   "cell_type": "markdown",
   "metadata": {
    "colab_type": "text",
    "id": "2yuK0s0wsrd8"
   },
   "source": [
    "Let's show the image (we add the argument *cmap='gray'* to tell the plot library that is a grayscale picture):"
   ]
  },
  {
   "cell_type": "code",
   "execution_count": 0,
   "metadata": {
    "colab": {},
    "colab_type": "code",
    "id": "eCR3nY5Sl8rm"
   },
   "outputs": [],
   "source": [
    "matplotlib.pyplot.imshow(grayscale_image, cmap='gray')"
   ]
  },
  {
   "cell_type": "markdown",
   "metadata": {
    "colab_type": "text",
    "id": "tzSkmo-5qZxw"
   },
   "source": [
    "So what about Pixels now? Each pixel now is not a vector anymore, but a single intensity value between 0-255. Let's try to analyze a couple of pixels belonging to the **Pupil** of the central eye and the other to the **Sclera**:"
   ]
  },
  {
   "cell_type": "code",
   "execution_count": 0,
   "metadata": {
    "colab": {},
    "colab_type": "code",
    "id": "bqx90K6pl-Od"
   },
   "outputs": [],
   "source": [
    "pupil_pixel = grayscale_image[132,134]\n",
    "sclera_pixel = grayscale_image[136,136]\n",
    "print(\"The Pupil pixel value is:  \",pupil_pixel)\n",
    "print(\"The Sclera pixel value is: \",sclera_pixel)"
   ]
  },
  {
   "cell_type": "markdown",
   "metadata": {
    "colab_type": "text",
    "id": "iJB-8QXusAtG"
   },
   "source": [
    "Rembering that a pixel value of **0** is **Black** and a value of **255** is **White**, we notice that the value *82* for the Pupil means a darker pixel with respect to the Sclera *208*."
   ]
  },
  {
   "cell_type": "markdown",
   "metadata": {
    "colab_type": "text",
    "id": "Hur2I0rbu_Q8"
   },
   "source": [
    "# 7. Modify pixels"
   ]
  },
  {
   "cell_type": "markdown",
   "metadata": {
    "colab_type": "text",
    "id": "eDBfzZy7vPeW"
   },
   "source": [
    "Up to now, we accessed pixels without modifying the original image. But, let's try to edit the grayscale image. Knowing that the pupil center is $row=132, column=134$ and the pupil radius is about $3$, we will iterate through the image in order to set to **White** all the pixels around the pupil:"
   ]
  },
  {
   "cell_type": "code",
   "execution_count": 0,
   "metadata": {
    "colab": {},
    "colab_type": "code",
    "id": "ZIfigX5Xpj-Q"
   },
   "outputs": [],
   "source": [
    "# Copy of the original image\n",
    "copyied_image = grayscale_image.copy()\n",
    "\n",
    "# Pupil coordinates\n",
    "center_row = 132\n",
    "center_column = 134\n",
    "radius = 3\n",
    "\n",
    "new_color = 255 #white\n",
    "\n",
    "for row in range(center_row - radius, center_row + radius):\n",
    "  for column in range(center_column - radius, center_column + radius):\n",
    "    copyied_image[row, column] = new_color"
   ]
  },
  {
   "cell_type": "markdown",
   "metadata": {
    "colab_type": "text",
    "id": "0BSxG2o9xNoE"
   },
   "source": [
    "Show the image:"
   ]
  },
  {
   "cell_type": "code",
   "execution_count": 0,
   "metadata": {
    "colab": {},
    "colab_type": "code",
    "id": "8thgmNiAw-pu"
   },
   "outputs": [],
   "source": [
    "matplotlib.pyplot.imshow(copyied_image, cmap='gray')"
   ]
  },
  {
   "cell_type": "markdown",
   "metadata": {
    "colab_type": "text",
    "id": "LCYWqxNuxaR3"
   },
   "source": [
    "In previous sections we read values of pixels with:\n",
    "\n",
    "```\n",
    "pixel_value = image[row, column]\n",
    "```\n",
    " \n",
    " Assigning to the variable *pixel_value* the value of the pixel at the index *[row,column]*. Conversely, here we assign to the original pixel a custom value, with:\n",
    " \n",
    "\n",
    "```\n",
    "image[row, column] = pixel_value\n",
    "```\n",
    "\n",
    "In this case the original image will be permanetly modified.\n",
    "\n",
    "\n",
    "\n"
   ]
  },
  {
   "cell_type": "markdown",
   "metadata": {
    "colab_type": "text",
    "id": "8b8njbE4yRuG"
   },
   "source": [
    "Now, try to hide both eyes of **Lenna** with a black mask"
   ]
  },
  {
   "cell_type": "code",
   "execution_count": 0,
   "metadata": {
    "colab": {},
    "colab_type": "code",
    "id": "a5vCBfYOxDI8"
   },
   "outputs": [],
   "source": [
    "# Copy of the original image\n",
    "copyied_image = grayscale_image.copy()\n",
    "\n",
    "# Pupil coordinates\n",
    "mask_center_row = <Insert your code here>\n",
    "mask_center_column = <Insert your code here>\n",
    "radius = <Insert your code here>\n",
    "\n",
    "new_color = <Insert your code here>\n",
    "\n",
    "for row in range(<Insert your code here>):\n",
    "  for column in range(<Insert your code here>):\n",
    "    copyied_image[row, column] = new_color\n",
    "    \n",
    "# Shows image\n",
    "matplotlib.pyplot.imshow(copyied_image, cmap='gray')"
   ]
  }
 ],
 "metadata": {
  "colab": {
   "collapsed_sections": [],
   "name": "Computer Vision Lab 1.ipynb",
   "provenance": [],
   "toc_visible": true,
   "version": "0.3.2"
  },
  "kernelspec": {
   "display_name": "Python 3",
   "language": "python",
   "name": "python3"
  },
  "language_info": {
   "codemirror_mode": {
    "name": "ipython",
    "version": 3
   },
   "file_extension": ".py",
   "mimetype": "text/x-python",
   "name": "python",
   "nbconvert_exporter": "python",
   "pygments_lexer": "ipython3",
   "version": "3.7.1"
  }
 },
 "nbformat": 4,
 "nbformat_minor": 1
}
