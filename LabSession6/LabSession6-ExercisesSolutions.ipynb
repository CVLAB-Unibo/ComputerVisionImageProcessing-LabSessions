{
 "cells": [
  {
   "cell_type": "code",
   "execution_count": null,
   "metadata": {},
   "outputs": [],
   "source": [
    "Object Detection\n",
    "Panorama stiching\n",
    "Augmented Reality\n",
    "Image Search"
   ]
  },
  {
   "cell_type": "code",
   "execution_count": null,
   "metadata": {},
   "outputs": [],
   "source": [
    "import numpy as np\n",
    "import cv2\n",
    "from matplotlib import pyplot as plt\n",
    "\n",
    "img_train = cv2.imread('LabSession6Images/box_in_scene.png',0) # trainImage\n",
    "img_query = cv2.imread('LabSession6Images/box.png',0) # queryImage\n",
    "\n",
    "sift = cv2.xfeatures2d.SIFT_create()\n",
    "kp_query = sift.detect(img_query)\n",
    "kp_train = sift.detect(img_train)\n",
    "kp_query, des_query = sift.compute(img_query, kp_query)\n",
    "kp_train, des_train = sift.compute(img_train, kp_train)\n",
    " \n",
    "    \n",
    "FLANN_INDEX_KDTREE = 1\n",
    "index_params = dict(algorithm = FLANN_INDEX_KDTREE, trees = 5)\n",
    "search_params = dict(checks = 50)\n",
    "flann = cv.FlannBasedMatcher(index_params, search_params)\n",
    "matches = flann.knnMatch(des1,des2,k=2)\n",
    "# store all the good matches as per Lowe's ratio test.\n",
    "good = []\n",
    "for m,n in matches:\n",
    "    if m.distance < 0.7*n.distance:\n",
    "        good.append(m)\n",
    "\n",
    "(matches, H, status) = M\n",
    "result = cv2.warpPerspective(imageA, H, (imageA.shape[1] + imageB.shape[1], imageA.shape[0]))\n",
    "result[0:imageB.shape[0], 0:imageB.shape[1]] = imageB\n",
    " \n",
    "# check to see if the keypoint matches should be visualized\n",
    "if showMatches:\n",
    "vis = self.drawMatches(imageA, imageB, kpsA, kpsB, matches,status)\n",
    "\n"
   ]
  }
 ],
 "metadata": {
  "kernelspec": {
   "display_name": "Python 3",
   "language": "python",
   "name": "python3"
  },
  "language_info": {
   "codemirror_mode": {
    "name": "ipython",
    "version": 3
   },
   "file_extension": ".py",
   "mimetype": "text/x-python",
   "name": "python",
   "nbconvert_exporter": "python",
   "pygments_lexer": "ipython3",
   "version": "3.5.2"
  }
 },
 "nbformat": 4,
 "nbformat_minor": 2
}
