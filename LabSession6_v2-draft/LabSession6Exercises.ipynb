{
 "cells": [
  {
   "cell_type": "markdown",
   "metadata": {},
   "source": [
    "# Camera Calibration\n",
    "## Computer Vision and Image Processing - Lab Session 4 Excerices Solutions\n",
    "### Prof: Luigi Di Stefano, luigi.distefano@unibo.it\n",
    "### Tutor: Pierluigi Zama Ramirez, pierluigi.zama@unibo.it - Alex Costanzino, alex.costanzino@unibo.it"
   ]
  },
  {
   "cell_type": "markdown",
   "metadata": {},
   "source": [
    "## Exercise 1: Data normalization\n",
    "\n",
    "Try to reimplement the code explained in the theory. Load the data, inspect it and train a new classifier without performing data normalization, keeping the same parameters of the original experiment.\n",
    "* Are there any differences in terms of performances?\n",
    "* How does normalization affect the training time?"
   ]
  },
  {
   "cell_type": "code",
   "execution_count": null,
   "metadata": {},
   "outputs": [],
   "source": [
    "# Write here your solution"
   ]
  },
  {
   "cell_type": "markdown",
   "metadata": {},
   "source": [
    "## Exercise 2: Repeat the experiment with the MNIST dataset\n",
    "\n",
    "Try to reimplement the code explained in the theory with the [MNIST dataset](https://keras.io/api/datasets/mnist/). Load the data, inspect it and train a new classifier, keeping the same parameters of the original experiment.\n",
    "* Are there any differences in terms of qualitative performances (i.e. accuracy, loss)?\n",
    "* Are there any differences in terms of temporal performances?\n",
    "* If there are difference what may be the source and why?"
   ]
  },
  {
   "cell_type": "code",
   "execution_count": null,
   "metadata": {},
   "outputs": [],
   "source": [
    "# To load the data\n",
    "from tensorflow.keras.datasets import mnist\n",
    "\n",
    "(x_train, y_train), (x_test, y_test) = mnist.load_data();\n",
    "\n",
    "# Write here your solution"
   ]
  },
  {
   "cell_type": "markdown",
   "metadata": {},
   "source": [
    "## Exercise 3: Play with the parameters\n",
    "\n",
    "Try to reimplement the code explained in the theory. Load the data, inspect it and train a new classifier changing several parameters (i.e. learning rate, optimizers, number of filters, kernel size, batch size, epochs, etc...), one at a time. \n",
    "\n",
    "Keep track of each parameter change and the corresponding change in model performance.\n",
    "* How each parameter change affects the model performance? Why?"
   ]
  },
  {
   "cell_type": "code",
   "execution_count": null,
   "metadata": {},
   "outputs": [],
   "source": [
    "# Write here your solution"
   ]
  },
  {
   "cell_type": "markdown",
   "metadata": {},
   "source": [
    "## Exercise 4: Play with the model's architecture\n",
    "\n",
    "Try to reimplement the code explained in the theory. Load the data, inspect it and train a new classifier changing the model's architecture (i.e. add or a convolutional layer, add more dense layers, etc...), one at a time. \n",
    "\n",
    "Keep track of each model change and the corresponding change in model performance.\n",
    "* How each model change affects the model performance? Why?"
   ]
  },
  {
   "cell_type": "code",
   "execution_count": null,
   "metadata": {},
   "outputs": [],
   "source": [
    "# Write here your solution"
   ]
  },
  {
   "cell_type": "markdown",
   "metadata": {},
   "source": [
    "## Exercise 5: Desing a classifier for CIFAR10 dataset\n",
    "\n",
    "Desing a novel classifier with the [CIFAR10 dataset](https://keras.io/api/datasets/cifar10/). Load the data, inspect it, desing and train a new classifier guiding your desing's choices with the results of the previous experiments.\n",
    "\n",
    "*Note*: keep in mind that this is a RGB dataset."
   ]
  },
  {
   "cell_type": "code",
   "execution_count": null,
   "metadata": {},
   "outputs": [],
   "source": [
    "# To load the data\n",
    "from tensorflow.keras.datasets import cifar10\n",
    "\n",
    "(x_train, y_train), (x_test, y_test) = cifar10.load_data();\n",
    "\n",
    "# Write here your solution"
   ]
  },
  {
   "cell_type": "code",
   "execution_count": null,
   "metadata": {},
   "outputs": [],
   "source": []
  }
 ],
 "metadata": {
  "kernelspec": {
   "display_name": "Python 3.10.8 64-bit",
   "language": "python",
   "name": "python3"
  },
  "language_info": {
   "codemirror_mode": {
    "name": "ipython",
    "version": 3
   },
   "file_extension": ".py",
   "mimetype": "text/x-python",
   "name": "python",
   "nbconvert_exporter": "python",
   "pygments_lexer": "ipython3",
   "version": "3.10.8"
  },
  "vscode": {
   "interpreter": {
    "hash": "b0fa6594d8f4cbf19f97940f81e996739fb7646882a419484c72d19e05852a7e"
   }
  }
 },
 "nbformat": 4,
 "nbformat_minor": 2
}
