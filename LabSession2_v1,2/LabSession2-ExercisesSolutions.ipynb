{
 "cells": [
  {
   "attachments": {},
   "cell_type": "markdown",
   "metadata": {},
   "source": [
    "# Introduction to OpenCV - Exercises Solutions\n",
    "## Computer Vision and Image Processing - Lab Session 2\n",
    "### Prof: Luigi Di Stefano, luigi.distefano@unibo.it\n",
    "### Tutor: Andrea Amaduzzi, andrea.amaduzzi4@unibo.it - Iacopo Curti, iacopo.curti2@unibo.it"
   ]
  },
  {
   "attachments": {},
   "cell_type": "markdown",
   "metadata": {},
   "source": [
    "## Exercise 1: Invert Grayscale Image\n",
    "\n",
    "####  Compute the *“negative”* of a  grayscale image (range of each pixel between [0 255]).  For each pixel having intensity I, modify its the value: 255-I. Download *\"grayscale.jpg\"* and test the program on it."
   ]
  },
  {
   "cell_type": "code",
   "execution_count": null,
   "metadata": {},
   "outputs": [],
   "source": [
    "# Write here your solution\n",
    "# Import libraries\n",
    "import cv2\n",
    "import numpy as np\n",
    "from matplotlib import pyplot as plt\n",
    "%matplotlib inline\n",
    "\n",
    "# Read image\n",
    "gray = cv2.imread(\"grayscale.jpg\", cv2.IMREAD_GRAYSCALE)\n",
    "print(\"Read the image with shape: \", gray.shape)\n",
    "\n",
    "# Invert image\n",
    "copy_gray = np.copy(gray)\n",
    "copy_gray = 255 - gray\n",
    "\n",
    "# Display Image\n",
    "# Adjusting the figsize for better visualization\n",
    "plt.figure(figsize=(20,10))\n",
    "# Plotting the original and modified images\n",
    "plt.subplot(1,2,1)\n",
    "plt.imshow(gray, cmap='gray', vmin=0, vmax=255)\n",
    "plt.subplot(1,2,2)\n",
    "plt.imshow(copy_gray, cmap='gray', vmin=0, vmax=255)\n",
    "plt.show()"
   ]
  },
  {
   "attachments": {},
   "cell_type": "markdown",
   "metadata": {},
   "source": [
    "## Exercise 2: Invert RGB Image\n",
    "\n",
    "#### Same as before, but in this case we want to compute the negative of a color image. The image has 3 channels, representing the 3 RGB values the intensity of each channel ranges between [0 255]. For each image pixel, we need to substitute the (B,G,R) triplet with its «inverse» *(255-B, 255-G, 255-R)*.  Download *\"avengers.png\"*and test the program on it."
   ]
  },
  {
   "cell_type": "code",
   "execution_count": null,
   "metadata": {},
   "outputs": [],
   "source": [
    "# Write here your solution\n",
    "# Import libraries\n",
    "import cv2\n",
    "import numpy as np\n",
    "from matplotlib import pyplot as plt\n",
    "%matplotlib inline\n",
    "\n",
    "# Read image\n",
    "bgr_image = cv2.imread(\"bologna_team.jpg\")\n",
    "\n",
    "# Invert image\n",
    "rgb_image = cv2.cvtColor(bgr_image,cv2.COLOR_BGR2RGB)\n",
    "copy_image = np.copy(rgb_image)\n",
    "copy_image = 255 - rgb_image\n",
    "\n",
    "# Display Image\n",
    "# Adjusting the figsize for better visualization\n",
    "plt.figure(figsize=(20,10))\n",
    "# Plotting the original and modified images\n",
    "plt.subplot(1,2,1)\n",
    "plt.imshow(rgb_image)\n",
    "plt.subplot(1,2,2)\n",
    "plt.imshow(copy_image)\n",
    "plt.show()"
   ]
  },
  {
   "attachments": {},
   "cell_type": "markdown",
   "metadata": {},
   "source": [
    "## Exercise 3: Differences between Images\n",
    "\n",
    "#### 1: Compute the pixel-wise difference between two pictures: Image1 and Image2. Compute an output image where each pixel of coordinates (x,y) contains the absolute difference of the corresponding pixels on Image1 and Image2: Out(x,y) = abs(Image1(x,y) – Image2(x,y)). \n",
    "#### 2: Find all pixels with a mean difference (across R,G,B channels) higher than 0 and create a copy of Image1 obscuring (with value 0) those pixels. Display that image.\n",
    "#### 3: Save the new image on disk and check the result. \n",
    "#### Test the exercise on Image 1:*\"differences1.png\"* and Image 2: *\"differences2.png\"*."
   ]
  },
  {
   "cell_type": "code",
   "execution_count": null,
   "metadata": {},
   "outputs": [],
   "source": [
    "%matplotlib inline \n",
    "# Write here your solution\n",
    "# Import libraries \n",
    "import cv2\n",
    "import numpy as np\n",
    "from matplotlib import pyplot as plt\n",
    "\n",
    "# Read images\n",
    "image1 = cv2.imread(\"Differences/differences1.png\")\n",
    "image2 = cv2.imread(\"Differences/differences2.png\")\n",
    "\n",
    "# Perform Difference\n",
    "abs_diff = np.abs(image1 - image2)\n",
    "\n",
    "# Display Image\n",
    "plt.imshow(cv2.cvtColor(abs_diff, cv2.COLOR_BGR2RGB))\n",
    "plt.show()"
   ]
  },
  {
   "cell_type": "code",
   "execution_count": null,
   "metadata": {},
   "outputs": [],
   "source": [
    "# Compute mean difference along last axis and mask image based on threshold\n",
    "mean_rgb_diff = np.mean(abs_diff, axis=-1)\n",
    "output_image = np.copy(image1)\n",
    "output_image[mean_rgb_diff > 0] = 0\n",
    "\n",
    "# Display Image\n",
    "plt.imshow(cv2.cvtColor(output_image, cv2.COLOR_BGR2RGB))\n",
    "plt.show()"
   ]
  },
  {
   "cell_type": "code",
   "execution_count": null,
   "metadata": {},
   "outputs": [],
   "source": [
    "# Save image on disk\n",
    "cv2.imwrite(\"spot_the_difference.png\", output_image)"
   ]
  },
  {
   "attachments": {},
   "cell_type": "markdown",
   "metadata": {},
   "source": [
    "## Exercise 4 [OPTIONAL]: Classify 7-Segments Display Digits"
   ]
  },
  {
   "attachments": {},
   "cell_type": "markdown",
   "metadata": {},
   "source": [
    "#### Classify a digits of the 7-segment display. \n",
    "\n",
    "<img src=\"7segments.png\" width=\"128\" height=\"256\">\n",
    "\n",
    "#### In a 7-segment display each segment can be ON or OFF. In a binary image we identify 255 (white) as ON and 0 (black) as OFF. The order of the 7-segments is depicted in the image above. To understand the image location of the segments refer to sample images (1.png, ..., 9.png).\n",
    "\n",
    "#### The combination of ON and OFF segments allows the display to show all possible digits from 0 to 9. A segment is defined ON if there are only white pixels (255) in that portion of an image. In test images each segment have a width of 20 pixels and an height of 128 pixels. Given a 256x128 digit image classify the correct number.\n",
    "\n",
    "#### It is enough that the algorithm works on example images (a general solution is not required).\n",
    "\n",
    "#### Test the program on digits images (1.png,  ..., 9.png). \n",
    "\n",
    "#### Tips (Only if you need help): \n",
    "* Identify the correct location (rows, columns range) for each segment based on example images (1.png, 2.png, etc). \n",
    "* Understand which segment is ON and OFF and save the status of each segment.\n",
    "* Based on which segment is active look for the right digit."
   ]
  },
  {
   "cell_type": "code",
   "execution_count": null,
   "metadata": {},
   "outputs": [],
   "source": [
    "# Write here your solution\n",
    "# Import libraries\n",
    "import cv2\n",
    "import numpy as np\n",
    "from matplotlib import pyplot as plt\n",
    "%matplotlib inline\n",
    "\n",
    "# Dictionary of ON segments for each possible digit. \n",
    "# The order follows the scheme of the image above.\n",
    "# For instance, digit 1 have only the segments 2 and 5 ON (1) while the others OFF (0). \n",
    "SEGMENTS_DIGITS = {\n",
    "(1, 1, 1, 0, 1, 1, 1): 0,\n",
    "(0, 0, 1, 0, 0, 1, 0): 1,\n",
    "(1, 0, 1, 1, 1, 0, 1): 2,\n",
    "(1, 0, 1, 1, 0, 1, 1): 3,\n",
    "(0, 1, 1, 1, 0, 1, 0): 4,\n",
    "(1, 1, 0, 1, 0, 1, 1): 5,\n",
    "(1, 1, 0, 1, 1, 1, 1): 6,\n",
    "(1, 0, 1, 0, 0, 1, 0): 7,\n",
    "(1, 1, 1, 1, 1, 1, 1): 8,\n",
    "(1, 1, 1, 1, 0, 1, 1): 9\n",
    "}\n",
    "\n",
    "class Classifier():\n",
    "    def __init__(self):\n",
    "        self.segments = []\n",
    "        self._init_segments()\n",
    "    def _init_segments(self):\n",
    "        self.segments.append([0, 20, 0, 128])\n",
    "        self.segments.append([0, 128, 0, 20])\n",
    "        self.segments.append([0, 128, -20, 128])\n",
    "        self.segments.append([118, 138, 0, 128])\n",
    "        self.segments.append([128, 256, 0, 20])\n",
    "        self.segments.append([128, 256, -20, 128])\n",
    "        self.segments.append([-20, 256, 0, 128])\n",
    "        \n",
    "    def get_active_segments(self, img):\n",
    "        active_segments = []\n",
    "        for i in range(7):\n",
    "            active_segments.append(self.check_segment(img, self.segments[i]))\n",
    "        return active_segments\n",
    "            \n",
    "    def check_segment(self, img, seg_pos):\n",
    "        values_sum = np.sum(img[seg_pos[0]:seg_pos[1], seg_pos[2]:seg_pos[3]])\n",
    "        if values_sum == self.get_sum_segment():\n",
    "            return 1\n",
    "        else:\n",
    "            return 0\n",
    "            \n",
    "    def get_sum_segment(self):\n",
    "        # Total number of pixels per segment\n",
    "        pixels_per_segment = 20 * 128\n",
    "        # Total sum of pixel values per segment\n",
    "        segment_values_sum = pixels_per_segment * 255\n",
    "        return segment_values_sum\n",
    "\n",
    "    def alternative_check_segment(self, img, seg_pos):\n",
    "        zero_if_active = np.sum(255 - img[seg_pos[0]:seg_pos[1], seg_pos[2]:seg_pos[3]])\n",
    "        if zero_if_active != 0:\n",
    "            return 0\n",
    "        else:\n",
    "            return 1\n",
    "\n",
    "# For a faster comprehension read the simple test code portion first.\n",
    "def test(get_active_segments_function):\n",
    "    for i in range(10):\n",
    "        image = cv2.imread('Digits/' + str(i) + '.png', cv2.IMREAD_GRAYSCALE)\n",
    "        if SEGMENTS_DIGITS[tuple(get_active_segments_function(image))] != i:\n",
    "            print('Failed to classify digit', i)\n",
    "    print('---\\nTesting over all digits ... \\nThe solution is correct.\\n---')\n",
    "    \n",
    "\n",
    "classifier = Classifier()\n",
    "\n",
    "# A simple test with a single image.\n",
    "image = cv2.imread(\"Digits/9.png\" ,cv2.IMREAD_GRAYSCALE)\n",
    "\n",
    "active_segments = classifier.get_active_segments(image)\n",
    "print(\"Active segments are: \", active_segments)\n",
    "\n",
    "# Get the result from the dictionary\n",
    "result = SEGMENTS_DIGITS[tuple(active_segments)]\n",
    "\n",
    "# Display Result\n",
    "plt.imshow(image, cmap='gray', vmin=0, vmax=255)\n",
    "print(\"The digits in the image is: \", result)\n",
    "\n",
    "# A complete test iterating among all images.\n",
    "test(classifier.get_active_segments)"
   ]
  },
  {
   "cell_type": "code",
   "execution_count": null,
   "metadata": {},
   "outputs": [],
   "source": []
  }
 ],
 "metadata": {
  "kernelspec": {
   "display_name": "Python 3 (ipykernel)",
   "language": "python",
   "name": "python3"
  },
  "language_info": {
   "codemirror_mode": {
    "name": "ipython",
    "version": 3
   },
   "file_extension": ".py",
   "mimetype": "text/x-python",
   "name": "python",
   "nbconvert_exporter": "python",
   "pygments_lexer": "ipython3",
   "version": "3.10.0"
  }
 },
 "nbformat": 4,
 "nbformat_minor": 2
}
