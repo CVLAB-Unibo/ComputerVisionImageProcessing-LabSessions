{
 "cells": [
  {
   "cell_type": "markdown",
   "metadata": {},
   "source": [
    "# Assignment\n",
    "## Computer Vision and Image Processing\n",
    "### Prof: Luigi Di Stefano, luigi.distefano@unibo.it\n",
    "### Tutor: Pierluigi Zama Ramirez, pierluigi.zama@unibo.it - Riccardo Spezialetti, riccardo.spezialetti@unibo.it"
   ]
  },
  {
   "cell_type": "markdown",
   "metadata": {},
   "source": [
    "## KITTI\n",
    "[KITTI](http://www.cvlibs.net/datasets/kitti/index.php) is a collection of 42,382 stereo sequences taken in urban environments from two video cameras and a LiDAR device mounted on the roof of a car. This dataset is widely used for benchmarking geometric understanding tasks such as depth, flow and pose estimation. \n",
    "\n",
    "<img src=\"kitti/000000_10.png\" width=\"720\">\n",
    "\n",
    "## Goal\n",
    "Given a Kitti image alongside the camera instrisics parameters, transform the image as it would have been acquired by your phone camera, i.e. by having your mobile phone mounted in the very exact position and pose as the Kitti camera.\n",
    "\n",
    "## Data\n",
    "**Images**: Images in the folder: _\"kitti/\"_\n",
    "\n",
    "**Intrinsics Parameters of the KITTI Camera (Matrix A)**: \n",
    "$$\\begin{bmatrix} 707.0912 & 0.0 & 601.8873 \\\\ 0.0 & 707.0912 & 183.1104 \\\\ 0.0 & 0.0 & 1.0 \\end{bmatrix}$$"
   ]
  },
  {
   "cell_type": "code",
   "execution_count": null,
   "metadata": {},
   "outputs": [],
   "source": [
    "# Write here your solution"
   ]
  }
 ],
 "metadata": {
  "kernelspec": {
   "display_name": "Python 3",
   "language": "python",
   "name": "python3"
  },
  "language_info": {
   "codemirror_mode": {
    "name": "ipython",
    "version": 3
   },
   "file_extension": ".py",
   "mimetype": "text/x-python",
   "name": "python",
   "nbconvert_exporter": "python",
   "pygments_lexer": "ipython3",
   "version": "3.7.3"
  }
 },
 "nbformat": 4,
 "nbformat_minor": 2
}
