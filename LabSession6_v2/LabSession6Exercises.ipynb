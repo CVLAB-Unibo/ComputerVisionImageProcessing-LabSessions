{
 "cells": [
  {
   "cell_type": "markdown",
   "metadata": {},
   "source": [
    "# Image Classification with Convolutional Neural Networks in Keras\n",
    "## Computer Vision and Image Processing - Lab Session 6 Excercises\n",
    "### Prof: Luigi Di Stefano, luigi.distefano@unibo.it\n",
    "### Tutor: Andrea Amaduzzi, andrea.amaduzzi4@unibo.it - Iacopo Curti, iacopo.curti2@unibo.it"
   ]
  },
  {
   "cell_type": "markdown",
   "metadata": {},
   "source": [
    "## Exercise 1: Data normalization\n",
    "\n",
    "Try to reimplement the code explained in the theory. Load the data, inspect it and train a new classifier without performing data normalization, keeping the same parameters of the original experiment.\n",
    "* Are there any differences in terms of performances?\n",
    "* How does normalization affect the training time?"
   ]
  },
  {
   "cell_type": "code",
   "execution_count": null,
   "metadata": {},
   "outputs": [],
   "source": [
    "# Write here your solution"
   ]
  },
  {
   "cell_type": "markdown",
   "metadata": {},
   "source": [
    "## Exercise 2: Repeat the experiment with the MNIST dataset\n",
    "\n",
    "Try to reimplement the code explained in the theory with the [MNIST dataset](https://keras.io/api/datasets/mnist/). Load the data, inspect it and train a new classifier, keeping the same parameters of the original experiment.\n",
    "* Are there any differences in terms of qualitative performances (i.e. accuracy, loss)?\n",
    "* Are there any differences in terms of temporal performances?\n",
    "* If there are differences what may be the source and why?"
   ]
  },
  {
   "cell_type": "code",
   "execution_count": null,
   "metadata": {},
   "outputs": [],
   "source": [
    "# To load the data if you are using your own device:\n",
    "from tensorflow.keras.datasets import mnist\n",
    "(x_train, y_train), (x_test, y_test) = mnist.load_data();"
   ]
  },
  {
   "cell_type": "code",
   "execution_count": null,
   "metadata": {},
   "outputs": [],
   "source": [
    "# To load the data if you are using your the lab computer:\n",
    "def load_mnist(path, kind = 'train'):\n",
    "    import gzip\n",
    "    import numpy as np\n",
    "    \n",
    "    labels_path = os.path.join(path,f'{kind}-labels-idx1-ubyte.gz')\n",
    "    images_path = os.path.join(path,f'{kind}-images-idx3-ubyte.gz')\n",
    "\n",
    "    with gzip.open(labels_path, 'rb') as lbpath:\n",
    "        labels = np.frombuffer(lbpath.read(), dtype = np.uint8, offset = 8)\n",
    "\n",
    "    with gzip.open(images_path, 'rb') as imgpath:\n",
    "        images = np.frombuffer(imgpath.read(), dtype = np.uint8, offset = 16).reshape(len(labels), 28, 28)\n",
    "\n",
    "    return images, labels\n",
    "\n",
    "(x_train, y_train), (x_test, y_test) = load_mnist(r'datasets/mnist', 'train'), load_mnist(r'datasets/mnist', 't10k')"
   ]
  },
  {
   "cell_type": "code",
   "execution_count": null,
   "metadata": {},
   "outputs": [],
   "source": [
    "# Write here your solution"
   ]
  },
  {
   "cell_type": "markdown",
   "metadata": {},
   "source": [
    "## Exercise 3: Play with the parameters\n",
    "\n",
    "Try to reimplement the code explained in the theory. Load the data, inspect it and train a new classifier changing several parameters (i.e. learning rate, optimizers, number of filters, kernel size, batch size, epochs, etc...), one at a time. \n",
    "\n",
    "Keep track of each parameter change and the corresponding change in model performance.\n",
    "* How each parameter change affects the model performance? Why?"
   ]
  },
  {
   "cell_type": "code",
   "execution_count": null,
   "metadata": {},
   "outputs": [],
   "source": [
    "# Write here your solution"
   ]
  },
  {
   "cell_type": "markdown",
   "metadata": {},
   "source": [
    "## Exercise 4: Play with the model's architecture\n",
    "\n",
    "Try to reimplement the code explained in the theory. Load the data, inspect it and train a new classifier changing the model's architecture (i.e. add or a convolutional layer, add more dense layers, etc...), one at a time. \n",
    "\n",
    "Keep track of each model change and the corresponding change in model performance.\n",
    "* How each model change affects the model performance? Why?"
   ]
  },
  {
   "cell_type": "code",
   "execution_count": null,
   "metadata": {},
   "outputs": [],
   "source": [
    "# Write here your solution"
   ]
  },
  {
   "cell_type": "markdown",
   "metadata": {},
   "source": [
    "## Exercise 5 [at home]: Desing a classifier for the CIFAR10 dataset\n",
    "\n",
    "Desing a novel classifier with the [CIFAR10 dataset](https://keras.io/api/datasets/cifar10/). Load the data, inspect it, desing and train a new classifier guiding your desing's choices with the results of the previous experiments.\n",
    "\n",
    "*Note*: keep in mind that this is a RGB dataset."
   ]
  },
  {
   "cell_type": "code",
   "execution_count": null,
   "metadata": {},
   "outputs": [],
   "source": [
    "# To load the data\n",
    "from tensorflow.keras.datasets import cifar10\n",
    "\n",
    "(x_train, y_train), (x_test, y_test) = cifar10.load_data();"
   ]
  },
  {
   "cell_type": "code",
   "execution_count": null,
   "metadata": {},
   "outputs": [],
   "source": [
    "# Write here your solution"
   ]
  },
  {
   "cell_type": "markdown",
   "metadata": {},
   "source": [
    "## Exercise 6 [at home]: Fine-tune a ResNet on a custom dataset\n",
    "\n",
    "Create a simple custom dataset with the procedure described in the theory.\n",
    "Then, load a pre-trained ResNet and test it on the custom dataset.\n",
    "Next, fine-tune the pre-trained ResNet on the custom dataset and then assess the quality of the training."
   ]
  },
  {
   "cell_type": "code",
   "execution_count": null,
   "metadata": {},
   "outputs": [],
   "source": [
    "# Write here your solution"
   ]
  }
 ],
 "metadata": {
  "kernelspec": {
   "display_name": "Python 3.10.8 64-bit",
   "language": "python",
   "name": "python3"
  },
  "language_info": {
   "codemirror_mode": {
    "name": "ipython",
    "version": 3
   },
   "file_extension": ".py",
   "mimetype": "text/x-python",
   "name": "python",
   "nbconvert_exporter": "python",
   "pygments_lexer": "ipython3",
   "version": "3.10.8"
  },
  "vscode": {
   "interpreter": {
    "hash": "b0fa6594d8f4cbf19f97940f81e996739fb7646882a419484c72d19e05852a7e"
   }
  }
 },
 "nbformat": 4,
 "nbformat_minor": 2
}
