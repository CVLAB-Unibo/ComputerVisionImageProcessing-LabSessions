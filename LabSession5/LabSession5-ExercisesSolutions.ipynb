{
 "cells": [
  {
   "cell_type": "code",
   "execution_count": null,
   "metadata": {},
   "outputs": [],
   "source": [
    "import numpy as np\n",
    "import cv2\n",
    "from matplotlib import pyplot as plt\n",
    "\n",
    "cap = cv2.VideoCapture('ex/1.mp4')\n",
    "idx = 0\n",
    "while(cap.isOpened()):\n",
    "    ret, frame = cap.read()\n",
    "    print(idx)\n",
    "    idx += 1\n",
    "    \n",
    "    if not frame is None:\n",
    "        plt.imshow(frame[:,:,::-1])\n",
    "        plt.show()\n",
    "\n",
    "cap.release()"
   ]
  },
  {
   "cell_type": "code",
   "execution_count": null,
   "metadata": {},
   "outputs": [],
   "source": [
    "import numpy as np\n",
    "import cv2\n",
    "from matplotlib import pyplot as plt\n",
    "\n",
    "cap = cv2.VideoCapture(0)\n",
    "\n",
    "# Capture frame-by-frame\n",
    "ret, frame = cap.read()\n",
    "        \n",
    "# Ourwhile(True):operations on the frame come here\n",
    "gray = cv2.cvtColor(frame, cv2.COLOR_BGR2GRAY)\n",
    "# Display the resulting frame\n",
    "plt.imshow(frame[:,:,::-1])\n",
    "plt.show()\n",
    "\n",
    "\n",
    "# When everything done, release the capture\n",
    "cap.release()\n"
   ]
  },
  {
   "cell_type": "code",
   "execution_count": null,
   "metadata": {
    "scrolled": false
   },
   "outputs": [],
   "source": [
    "import numpy as np\n",
    "import cv2\n",
    "from matplotlib import pyplot as plt\n",
    "threshold = 3\n",
    "bg = []\n",
    "idx = 0\n",
    "cap = cv2.VideoCapture('ex/1.mp4')\n",
    "while(cap.isOpened()):\n",
    "    ret, frame = cap.read()\n",
    "    if not frame is None:\n",
    "        frame = frame.astype(float)\n",
    "        if idx < threshold:\n",
    "            bg.append(frame)\n",
    "        elif idx == threshold:\n",
    "            bg_3frames = np.stack(bg, axis=0)\n",
    "            bg_median = np.median(bg, axis=0)\n",
    "            plt.imshow(bg_median[:,:,::-1].astype(np.uint8))\n",
    "            plt.show()\n",
    "        else:\n",
    "            break\n",
    "        idx += 1\n",
    "cap.release()\n",
    "\n",
    "cap = cv2.VideoCapture('ex/1.mp4')\n",
    "while(cap.isOpened()):\n",
    "    ret, frame = cap.read()\n",
    "    if not frame is None:\n",
    "        frame = frame.astype(float)\n",
    "        frame -= bg_median\n",
    "        frame = np.abs(frame)\n",
    "        plt.imshow(frame[:,:,::-1].astype(np.uint8))\n",
    "        plt.show()\n",
    "        idx += 1\n",
    "cap.release()"
   ]
  },
  {
   "cell_type": "code",
   "execution_count": null,
   "metadata": {},
   "outputs": [],
   "source": []
  }
 ],
 "metadata": {
  "kernelspec": {
   "display_name": "Python 3",
   "language": "python",
   "name": "python3"
  },
  "language_info": {
   "codemirror_mode": {
    "name": "ipython",
    "version": 3
   },
   "file_extension": ".py",
   "mimetype": "text/x-python",
   "name": "python",
   "nbconvert_exporter": "python",
   "pygments_lexer": "ipython3",
   "version": "3.7.1"
  }
 },
 "nbformat": 4,
 "nbformat_minor": 2
}
