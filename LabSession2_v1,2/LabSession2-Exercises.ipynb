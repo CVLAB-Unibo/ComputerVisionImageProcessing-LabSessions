{
 "cells": [
  {
   "cell_type": "markdown",
   "metadata": {},
   "source": [
    "# Introduction to OpenCV - Exercises\n",
    "## Computer Vision and Image Processing - Lab Session 2\n",
    "### Prof: Luigi Di Stefano, luigi.distefano@unibo.it\n",
    "### Tutor: Pierluigi Zama Ramirez, pierluigi.zama@unibo.it, Alex Costanzino, alex.costanzino@studio.unibo.it"
   ]
  },
  {
   "cell_type": "markdown",
   "metadata": {},
   "source": [
    "## Exercise 1: Invert Grayscale Image\n",
    "\n",
    "####  Compute the *“negative”* of a  grayscale image (range of each pixel between [0 255]).  For each pixel having intensity I, modify its the value: 255 - I. Download *\"grayscale.jpg\"* and test the program on it."
   ]
  },
  {
   "cell_type": "code",
   "execution_count": null,
   "metadata": {},
   "outputs": [],
   "source": [
    "%matplotlib inline\n",
    "# Write here your solution\n",
    "# Import libraries\n",
    "\n",
    "# Read image\n",
    "\n",
    "# Invert image\n",
    "\n",
    "# Display Image\n"
   ]
  },
  {
   "cell_type": "markdown",
   "metadata": {},
   "source": [
    "## Exercise 2: Invert RGB Image\n",
    "\n",
    "#### Same as before, but in this case we want to compute the negative of a color image. The image has 3 channels, representing the 3 RGB values, the intensity of each channel ranges between [0 255]. For each image pixel, we need to substitute the (B,G,R) triplet with its «inverse» *(255-B, 255-G, 255-R)*.  Download *\"avengers.png\"*and test the program on it."
   ]
  },
  {
   "cell_type": "code",
   "execution_count": null,
   "metadata": {},
   "outputs": [],
   "source": [
    "%matplotlib inline\n",
    "# Write here your solution\n",
    "# Import libraries\n",
    "\n",
    "# Read image\n",
    "\n",
    "# Invert image\n",
    "\n",
    "# Display Image\n"
   ]
  },
  {
   "cell_type": "markdown",
   "metadata": {},
   "source": [
    "## Exercise 3: Differences between Images\n",
    "\n",
    "#### 1: Compute the pixel-wise difference between two pictures : Image1 and Image2. Compute an output image where each pixel of coordinates (x,y) contains the absolute difference of the corresponding pixels on Image1 and Image2: Out(x,y) = abs(Image1(x,y) – Image2(x,y)). \n",
    "#### 2: Find all pixels with a mean difference (across R,G,B channels) higher than 0 and create a copy of Image1 obscuring (with value 0) those pixels. Display that image.\n",
    "#### 3: Save the new image on disk and check the result. \n",
    "#### Test the exercise on Image 1:*\"differences1.png\"* and Image 2: *\"differences2.png\"*."
   ]
  },
  {
   "cell_type": "code",
   "execution_count": null,
   "metadata": {},
   "outputs": [],
   "source": [
    "%matplotlib inline\n",
    "# Write here your solution\n",
    "# Import libraries\n",
    "\n",
    "# Read images\n",
    "\n",
    "# Perform Difference\n",
    "\n",
    "# Display Image\n"
   ]
  },
  {
   "cell_type": "code",
   "execution_count": null,
   "metadata": {},
   "outputs": [],
   "source": [
    "# Compute mean difference along last axis and mask image based on threshold\n",
    "\n",
    "# Display Image\n"
   ]
  },
  {
   "cell_type": "code",
   "execution_count": null,
   "metadata": {},
   "outputs": [],
   "source": [
    "# Save image on disk\n"
   ]
  },
  {
   "cell_type": "markdown",
   "metadata": {},
   "source": [
    "## Exercise 4 [OPTIONAL]: Classify 7-Segments Display Digits"
   ]
  },
  {
   "cell_type": "markdown",
   "metadata": {},
   "source": [
    "#### Classify a digits of the 7-segment display. \n",
    "\n",
    "<img src=\"7segments.png\" width=\"128\" height=\"256\">\n",
    "\n",
    "#### In a 7-segment display each segment can be ON or OFF. In a binary image we identify 255 (white) as ON and 0 (black) as OFF. The order of the 7-segments is depicted in the image above. To understand the image location of the segments refer to sample images (1.png, ..., 9.png).\n",
    "\n",
    "#### The combination of ON and OFF segments allows the display to show all possible digits from 0 to 9. A segment is defined ON if there are only white pixels (255) in that portion of an image. In test images each segment have a width of 20 pixels and an height of 128 pixels. Given a 256x128 digit image classify the correct number.\n",
    "\n",
    "#### It is enough that the algorithm works on example images (a general solution is not required).\n",
    "\n",
    "#### Test the program on digits images (1.png,  ..., 9.png). \n",
    "\n",
    "#### Tips (Only if you need help): \n",
    "* Identify the correct location (rows, columns range) for each segment based on example images (1.png, 2.png, etc). \n",
    "* Understand which segment is ON and OFF and save the status of each segment.\n",
    "* Based on which segment is active look for the right digit."
   ]
  },
  {
   "cell_type": "code",
   "execution_count": null,
   "metadata": {},
   "outputs": [],
   "source": [
    "%matplotlib inline\n",
    "# Write here your solution\n",
    "# Import libraries\n",
    "\n",
    "\n",
    "# Dictionary of ON segments for each possible digit.\n",
    "# The order follows the scheme of the image above.\n",
    "# For instance, digit 1 have only the segments 2 and 5 ON (1) while the others OFF (0).\n",
    "SEGMENTS_DIGITS = {\n",
    "(1, 1, 1, 0, 1, 1, 1): 0,\n",
    "(0, 0, 1, 0, 0, 1, 0): 1,\n",
    "(1, 0, 1, 1, 1, 0, 1): 2,\n",
    "(1, 0, 1, 1, 0, 1, 1): 3,\n",
    "(0, 1, 1, 1, 0, 1, 0): 4,\n",
    "(1, 1, 0, 1, 0, 1, 1): 5,\n",
    "(1, 1, 0, 1, 1, 1, 1): 6,\n",
    "(1, 0, 1, 0, 0, 1, 0): 7,\n",
    "(1, 1, 1, 1, 1, 1, 1): 8,\n",
    "(1, 1, 1, 1, 0, 1, 1): 9\n",
    "}\n",
    "\n",
    "# List to track active elements\n",
    "active_segments = [0,0,0,0,0,0,0]\n",
    "\n",
    "# Find active elements\n",
    "\n",
    "# Get the corresponding digit from the dictionary\n",
    "\n",
    "# Results\n"
   ]
  }
 ],
 "metadata": {
  "kernelspec": {
   "display_name": "Python 3 (ipykernel)",
   "language": "python",
   "name": "python3"
  },
  "language_info": {
   "codemirror_mode": {
    "name": "ipython",
    "version": 3
   },
   "file_extension": ".py",
   "mimetype": "text/x-python",
   "name": "python",
   "nbconvert_exporter": "python",
   "pygments_lexer": "ipython3",
   "version": "3.8.10"
  }
 },
 "nbformat": 4,
 "nbformat_minor": 2
}
