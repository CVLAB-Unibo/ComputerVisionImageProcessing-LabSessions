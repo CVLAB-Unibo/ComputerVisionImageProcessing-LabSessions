{
 "cells": [
  {
   "cell_type": "markdown",
   "metadata": {},
   "source": [
    "# Camera Calibration\n",
    "## Computer Vision and Image Processing - Lab Session 3 Excerices Solutions\n",
    "### Prof: Luigi Di Stefano, luigi.distefano@unibo.it\n",
    "### Tutor: Pierluigi Zama Ramirez, pierluigi.zama@unibo.it - Riccardo Spezialetti, riccardo.spezialetti@unibo.it"
   ]
  },
  {
   "cell_type": "markdown",
   "metadata": {},
   "source": [
    "## Exercise 0: Calibrate your own camera (or Sample Camera)\n",
    "\n",
    "Try to reimplement the code explained in the theory. Acquire a set of images with a camera (e.g. your mobile phone camera) and calibrate it. For the calibration target print the chessboard.pdf in a A4 paper.\n",
    "If you are not able to use a camera use the sample images contained in \"calibration_images/*.jpg\""
   ]
  },
  {
   "cell_type": "code",
   "execution_count": null,
   "metadata": {},
   "outputs": [],
   "source": [
    "# Write here your solution"
   ]
  },
  {
   "cell_type": "markdown",
   "metadata": {},
   "source": [
    "## Exercise 1A: 3D-2D correspondence\n",
    "\n",
    "Using image \"chessboards/0.jpg\" and the calibration results, find the 2D point correspondent to the 3D point (53, 53, 0) and draw a red circle around it.\n",
    "Solve the exercise in two different ways:\n",
    "\n",
    "* Use the OpenCV function cv2.projectPoints(objectPoints, rvec, tvec, cameraMatrix, distCoeffs).\n",
    "* Do it \"manually\" using the PPM matrix derived from the calibration parameters obtained in the previous exercise."
   ]
  },
  {
   "cell_type": "code",
   "execution_count": null,
   "metadata": {},
   "outputs": [],
   "source": [
    "# Write here your solution"
   ]
  },
  {
   "cell_type": "markdown",
   "metadata": {},
   "source": [
    "## Exercise 1 B:\n",
    "Find the 3D point correspondent to the 2D point of the (2,2) corner. Do it first using the PPM derived from the calibration parameters and then using a new homography (calculated with cv2.findHomography).\n",
    "\n",
    "The expected result is approximately (53,53,0)."
   ]
  },
  {
   "cell_type": "code",
   "execution_count": null,
   "metadata": {},
   "outputs": [],
   "source": [
    "# Write here your solution"
   ]
  },
  {
   "cell_type": "markdown",
   "metadata": {},
   "source": [
    "## Exercise 2: 3D Measureaments in mm\n",
    "\n",
    "Take an image with an object belonging to same plane of the chessboard (the chessboard has to be in the image). If you cannot use your camera try on \"es2/pen.jpg\".\n",
    "\n",
    "Measure the lenght of that object in mm. \n",
    "\n",
    "Get the 2D image coordinates using the Image Visualization Tool in LabSession3Exercise3VisualizationTool.ipynb\n",
    "\n",
    "Expected_results: 145.56mm\n",
    "\n",
    "<img src=\"LabSession3Images/pen_lenght.png\" width=256>\n",
    "\n",
    "**Tips (Only if needed)**\n",
    "* Find the homography given 2D-3D correspondences\n",
    "* Get the coordinate of two pixels of the object\n",
    "* Apply the same transformation as in Exercise 1b to get the 3D coordinate of those pixels\n",
    "* Find the euclidean distance between two 3D points to get your mesuraments"
   ]
  },
  {
   "cell_type": "code",
   "execution_count": null,
   "metadata": {},
   "outputs": [],
   "source": [
    "# Write here your solution"
   ]
  },
  {
   "cell_type": "markdown",
   "metadata": {},
   "source": [
    "## Exercise 3: Augmented Reality \n",
    "\n",
    "Given an image, project it on the chessboard to cover all the corners of the image. Try to get restore the values of the original image (the one with the chessboard) instead of black pixels obtained with warping.\n",
    "\n",
    "Get the 2D image coordinates using the Image Visualization Tool in LabSession3Exercise3VisualizationTool.ipynb or with cv2.findChessboardCorners.\n",
    "\n",
    "Test the algorithm on \"es3/stregatto.jpg\" and \"es3/stregatto2.jpg\".\n",
    "\n",
    "Expected result:\n",
    "<img src=\"LabSession3Images/stregatto_appear.png\" width=256>\n",
    "**Tips (Only if needed)**\n",
    "* Find the 4 points in the image where you would like to project the image with the chessboard\n",
    "* Find the Perspective Transformation\n",
    "* Warp the image\n",
    "* Understand what are the points to restore with the original values\n",
    "* Restore the values in those pixels"
   ]
  },
  {
   "cell_type": "code",
   "execution_count": null,
   "metadata": {},
   "outputs": [],
   "source": [
    "# Write here your solution"
   ]
  },
  {
   "cell_type": "markdown",
   "metadata": {},
   "source": [
    "## Exercise 4: Removal of perspective deformation \n",
    "\n",
    "Given a chessboard image remove the perspective deformation on the paper containing the chessboard and save it in a new image.\n",
    "\n",
    "Get the 2D image coordinates using the Image Visualization Tool in LabSession3Exercise3VisualizationTool.ipynb\n",
    "\n",
    "Test the exercise on \"es4/pen.jpg\"\n",
    "\n",
    "Expected Results: \n",
    "<img src=\"LabSession3Images/perspective_deform.png\" width=256>\n",
    "\n",
    "**Tips (Only if needed)**\n",
    "* Find the 4 points in the image of the corner of the paper \n",
    "* Understand what will be the dimension of the resulting image\n",
    "* Find the Perspective Transformation\n",
    "* Warp the paper into a new image (with the new dimensions you found)"
   ]
  },
  {
   "cell_type": "code",
   "execution_count": null,
   "metadata": {},
   "outputs": [],
   "source": [
    "# Write here your solution"
   ]
  }
 ],
 "metadata": {
  "kernelspec": {
   "display_name": "Python 3",
   "language": "python",
   "name": "python3"
  },
  "language_info": {
   "codemirror_mode": {
    "name": "ipython",
    "version": 3
   },
   "file_extension": ".py",
   "mimetype": "text/x-python",
   "name": "python",
   "nbconvert_exporter": "python",
   "pygments_lexer": "ipython3",
   "version": "3.7.3"
  }
 },
 "nbformat": 4,
 "nbformat_minor": 2
}
