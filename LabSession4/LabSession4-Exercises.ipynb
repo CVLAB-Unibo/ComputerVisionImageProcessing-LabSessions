{
 "cells": [
  {
   "cell_type": "markdown",
   "metadata": {},
   "source": [
    "# Point and Local Operators - Exercises\n",
    "## Computer Vision and Image Processing - Lab Session 4\n",
    "### Prof: Luigi Di Stefano, luigi.distefano@unibo.it\n",
    "### Tutor: Pierluigi Zama Ramirez, pierluigi.zama@unibo.it"
   ]
  },
  {
   "cell_type": "markdown",
   "metadata": {},
   "source": [
    "# Point Operator"
   ]
  },
  {
   "cell_type": "markdown",
   "metadata": {},
   "source": [
    "## Exercise 1: Linear Contrast Stretching\n",
    "Implement a linear contrast stretching function.\n",
    "\n",
    "Given $P_{max}$ and $P_{min}$ the maximum and minimum pixel value respectively (can be different from the min and max values of the image), convert each pixel of the original image $P_{in}$ into the new pixel of the output image $P_{out}$ with the following formula:\n",
    "\n",
    "$P_{out} = \\frac{255}{P_{max} - P_{min}}(P_{in} - P_{min})$\n",
    "\n",
    "Test the function 3 times on the __grayscale__ image \"ex/image.png\" using as $P_{max}$ and $P_{min}$:\n",
    "\n",
    "* The minimum and maximum value of the image  respectively. You can use **np.max(array, axis)** and **np.min(array, axis)** to calculate them. \n",
    "* $P_{max}=40$ and $P_{min}=0$.\n",
    "* Choose as $P_{max}$ and $P_{min}$ the values at 95% and 5% percentiles of the distribution respectively (the value of the 5% pixels ordered from the lowest value pixel). \n",
    "\n",
    "Plot the histogram of the image before and after each transformation."
   ]
  },
  {
   "cell_type": "code",
   "execution_count": null,
   "metadata": {},
   "outputs": [],
   "source": [
    "# Write your solution here"
   ]
  },
  {
   "cell_type": "markdown",
   "metadata": {},
   "source": [
    "## Exercise 2: Exponential Operator\n",
    "Implement an exponential operator.\n",
    "Given an exponent $r$ compute for each input pixel $P_{in}$ the output pixel value $P_{out}$ with the following exponential operator formula:\n",
    "\n",
    "$P_{out}=255*(\\frac{P_{in}}{255})^r$\n",
    "\n",
    "Test the function on the __grayscale__ image \"ex/image.png\" using as $r=0.45$.\n",
    "\n",
    "Plot the histogram of the image before and after the transformation."
   ]
  },
  {
   "cell_type": "code",
   "execution_count": null,
   "metadata": {},
   "outputs": [],
   "source": [
    "# Write your solution here"
   ]
  },
  {
   "cell_type": "markdown",
   "metadata": {},
   "source": [
    "## Exercise 3: Histogram Equalization\n",
    "Implement an histogram equalization operator.\n",
    "\n",
    "Given intesity of pixel $i \\in [0 .. 255]$, the image histogram $h$, the total number of pixels of the image $N$, compute the cumulative distribution function:\n",
    "\n",
    "$PMF(i) = \\frac{1}{N}\\sum_{k=0}^i(h(k))$\n",
    "\n",
    "and then use it to perform the equalization:\n",
    "\n",
    "$P_{out} = 255PMF(P_{in})$\n",
    "\n",
    "Equalization spreads uniformly pixel intensities across the whole available range, which usually improves the contrast.\n",
    "\n",
    "Test the function on the __grayscale__ image \"ex/image.png\".\n",
    "\n",
    "Plot the histogram of the image before and after the transformation."
   ]
  },
  {
   "cell_type": "code",
   "execution_count": null,
   "metadata": {},
   "outputs": [],
   "source": [
    "# Write your solution here"
   ]
  },
  {
   "cell_type": "markdown",
   "metadata": {},
   "source": [
    "# Local Operator"
   ]
  },
  {
   "cell_type": "markdown",
   "metadata": {},
   "source": [
    "## Exercise 4: Mean Filter\n",
    "Apply a mean filter of kernel size 9x9 to an image.\n",
    "\n",
    "Test it on the __grayscale__ image \"ex/landscape.jpg\"."
   ]
  },
  {
   "cell_type": "code",
   "execution_count": null,
   "metadata": {},
   "outputs": [],
   "source": [
    "# Write your solution here"
   ]
  },
  {
   "cell_type": "markdown",
   "metadata": {},
   "source": [
    "## Exercise 5: Other Filters\n",
    "Apply a denoising filter and an high-pass filter (edge-enhancement) to an image.\n",
    "\n",
    "* Denoising filter = $\\begin{bmatrix} \n",
    "                        1 & 2 & 1\\\\\n",
    "                        2 & 4 & 2\\\\\n",
    "                        1 & 2 & 1\\\\\n",
    "                        \\end{bmatrix}\\frac{1}{16} $\n",
    "\n",
    "* High pass filter (edge-enhancement) = $\\begin{bmatrix} \n",
    "                        0 & 1 & 0\\\\\n",
    "                        1 & -4 & 1\\\\\n",
    "                        0 & 1 & 0\\\\\n",
    "                        \\end{bmatrix}$\n",
    "\n",
    "Test it on the __grayscale__ image \"ex/landscape.jpg\"."
   ]
  },
  {
   "cell_type": "code",
   "execution_count": null,
   "metadata": {},
   "outputs": [],
   "source": [
    "# Write your solution here"
   ]
  },
  {
   "cell_type": "markdown",
   "metadata": {},
   "source": [
    "## Exercise 6: Gaussian Filter\n",
    "\n",
    "Apply a gaussian filter with $\\sigma=1.5$ to an image.\n",
    "\n",
    "Do it twice:\n",
    "* Finding the gaussian kernel and applying it.  \n",
    "* Using the OpenCV function for gaussian blurring.\n",
    "\n",
    "Find the kernel size following the rule of thumb showed in the theory slides.\n",
    "\n",
    "Test it on the __grayscale__ image \"ex/landscape.jpg\"."
   ]
  },
  {
   "cell_type": "code",
   "execution_count": null,
   "metadata": {},
   "outputs": [],
   "source": [
    "# Write your solution here"
   ]
  },
  {
   "cell_type": "markdown",
   "metadata": {},
   "source": [
    "## Exercise 7: Bilateral Filter\n",
    "Apply a bilateral filter with filter size of 9x9 and both sigma values of 75. \n",
    "\n",
    "Test it on the __grayscale__ image \"ex/landscape.jpg\".\n",
    "\n",
    "__N.B__:\n",
    "* Sigma values: If they are small (< 10), the filter will not have much effect, whereas if they are large (> 150), they will have a very strong effect, making the image look “cartoonish”.\n",
    "* Filter size: Large filters (> 5) are very slow, so it is recommended to use d=5 for real-time applications, and approximately 9 for offline applications that need heavy noise filtering."
   ]
  },
  {
   "cell_type": "code",
   "execution_count": null,
   "metadata": {},
   "outputs": [],
   "source": [
    "# Write your solution here"
   ]
  },
  {
   "cell_type": "markdown",
   "metadata": {},
   "source": [
    "## Exercise 8: Sobel Filter\n",
    "Apply the Sobel kernels to calculate the smooth derivates $\\frac{dI(x, y)}{dx}$, $\\frac{dI(x, y)}{dy}$ along x and y respectively. Visualize the absolute value of the two results.\n",
    "\n",
    "Then, calculate the module of the gradient as $max(abs(\\frac{dI(x, y)}{dx}), abs(\\frac{dI(x, y)}{dy}))$ and visualize also this last result."
   ]
  },
  {
   "cell_type": "code",
   "execution_count": null,
   "metadata": {},
   "outputs": [],
   "source": [
    "# Write your solution here"
   ]
  }
 ],
 "metadata": {
  "kernelspec": {
   "display_name": "Python 3",
   "language": "python",
   "name": "python3"
  },
  "language_info": {
   "codemirror_mode": {
    "name": "ipython",
    "version": 3
   },
   "file_extension": ".py",
   "mimetype": "text/x-python",
   "name": "python",
   "nbconvert_exporter": "python",
   "pygments_lexer": "ipython3",
   "version": "3.7.1"
  }
 },
 "nbformat": 4,
 "nbformat_minor": 2
}
