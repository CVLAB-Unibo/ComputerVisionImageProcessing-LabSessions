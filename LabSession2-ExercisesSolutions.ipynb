{
 "cells": [
  {
   "cell_type": "markdown",
   "metadata": {},
   "source": [
    "# Python from Scratch - Exercises Solutions\n",
    "## Computer Vision and Image Processing - Lab Session 2\n",
    "### Prof: Luigi Di Stefano, luigi.distefano@unibo.it\n",
    "### Tutor: Pierluigi Zama Ramirez, pierluigi.zama@unibo.it"
   ]
  },
  {
   "cell_type": "markdown",
   "metadata": {},
   "source": [
    "## Exercise 1: Invert Grayscale Image\n",
    "\n",
    "####  Compute the *“negative”* of a  grayscale image (range of each pixel between [0 255]).  For each pixel having intensity I, modify its the value: 255-I. Download *\"grayscale.jpg\"* and test the program on it."
   ]
  },
  {
   "cell_type": "code",
   "execution_count": null,
   "metadata": {},
   "outputs": [],
   "source": [
    "import cv2\n",
    "import numpy as np\n",
    "from matplotlib import pyplot as plt\n",
    "%matplotlib inline\n",
    "\n",
    "gray = cv2.imread(\"grayscale.jpg\", cv2.IMREAD_GRAYSCALE)\n",
    "print(\"Read the image with shape: \", gray.shape)\n",
    "\n",
    "invert_gray = 255 - gray\n",
    "\n",
    "plt.imshow(invert_gray, cmap='gray', vmin=0, vmax=255)"
   ]
  },
  {
   "cell_type": "markdown",
   "metadata": {},
   "source": [
    "## Exercise 2: Invert RGB Image\n",
    "\n",
    "#### Same as before, but in this case we want to compute the negative of a color image. The image has 3 channels, representing the 3 RGB values the intensity of each channel ranges between [0 255]. For each image pixel, we need to substitute the (B,G,R) triplet with its «inverse» *(255-B, 255-G, 255-R)*.  Download *\"avenger.png\"*and test the program on it."
   ]
  },
  {
   "cell_type": "code",
   "execution_count": null,
   "metadata": {},
   "outputs": [],
   "source": [
    "import cv2\n",
    "import numpy as np\n",
    "from matplotlib import pyplot as plt\n",
    "%matplotlib inline\n",
    "\n",
    "image = cv2.imread(\"avengers.png\")\n",
    "invert_bgr = 255 - image\n",
    "\n",
    "plt.imshow(invert_bgr)"
   ]
  },
  {
   "cell_type": "markdown",
   "metadata": {},
   "source": [
    "## Exercise 3: Differences between Images\n",
    "\n",
    "#### 1: Compute the pixel-wise difference between the two pictures Image1 and Image2. Compute an output image where each pixel of coordinates (x,y) contains the absolute difference of the corresponding pixels on Image1 and Image2: Out(x,y) = abs(Image1(x,y) – Image2(x,y)). \n",
    "#### 2: Find all pixels with a mean difference (across R,G,B channels) higher than 0 and create a copy of Image1 obscuring (with value 0) those pixels. Display that image.\n",
    "#### 3: Save the new image on disk and check the result. \n",
    "#### Download and test the exercise on Image 1:*\"differences1.png\"* and Image 2: *\"differences2.png\"*."
   ]
  },
  {
   "cell_type": "code",
   "execution_count": null,
   "metadata": {},
   "outputs": [],
   "source": [
    "import cv2\n",
    "import numpy as np\n",
    "from matplotlib import pyplot as plt\n",
    "%matplotlib inline\n",
    "\n",
    "image1 = cv2.imread(\"differences1.png\")\n",
    "image2 = cv2.imread(\"differences2.png\")\n",
    "\n",
    "abs_diff = np.abs(image1 - image2)\n",
    "\n",
    "plt.imshow(cv2.cvtColor(abs_diff, cv2.COLOR_BGR2RGB))"
   ]
  },
  {
   "cell_type": "code",
   "execution_count": null,
   "metadata": {},
   "outputs": [],
   "source": [
    "mean_rgb_diff = np.mean(abs_diff, axis=-1)\n",
    "print(mean_rgb_diff.shape)\n",
    "\n",
    "output_image = np.copy(image1)\n",
    "output_image[mean_rgb_diff > 0] = 0\n",
    "\n",
    "plt.imshow(cv2.cvtColor(output_image, cv2.COLOR_BGR2RGB))"
   ]
  },
  {
   "cell_type": "code",
   "execution_count": null,
   "metadata": {},
   "outputs": [],
   "source": [
    "cv2.imwrite(\"spot_the_difference.png\", output_image)"
   ]
  },
  {
   "cell_type": "markdown",
   "metadata": {},
   "source": [
    "## Exercise 4 [HARD]: Classify 7-Segments Display Digits"
   ]
  },
  {
   "cell_type": "markdown",
   "metadata": {},
   "source": [
    "#### Classify a digits of the 7-segment display. \n",
    "\n",
    "<img src=\"7segments.png\" width=\"128\" height=\"256\">\n",
    "\n",
    "#### In a 7-segment display each segment can be ON or OFF. In a binary image we identify 255 (white) as ON and 0 (black) as OFF. The order of the 7-segments is depicted in the image above.\n",
    "\n",
    "#### The combination of ON and OFF segment allows the display to show all possible digits from 0 to 9. A segment is defined ON if we have only white pixels (255) in that portion of an image. In test images each segment have a width of 20 pixels and an height of 128 pixels. Given a 256x128 digit image classify the correct number. \n",
    "\n",
    "#### Download and test the program on digits images (1.png,  ..., 9.png). \n",
    "\n",
    "#### Tips ( Only if you need help): \n",
    "* Identify the correct location (rows, columns) for each segment based on example images (1.png, 2.png, etc). \n",
    "* Understand which segment is ON and OFF and save the status of each segment\n",
    "* Based on which segment is active look for the right digit"
   ]
  },
  {
   "cell_type": "code",
   "execution_count": null,
   "metadata": {},
   "outputs": [],
   "source": [
    "import cv2\n",
    "import numpy as np\n",
    "\n",
    "# Dictionary of ON segments for each possible digit. \n",
    "# The order follows the scheme of the image above.\n",
    "# For instance, digit 1 have only the segments 2 and 5 ON (1) while the others OFF (0). \n",
    "\n",
    "SEGMENTS_DIGITS = {\n",
    "(1, 1, 1, 0, 1, 1, 1): 0,\n",
    "(0, 0, 1, 0, 0, 1, 0): 1,\n",
    "(1, 0, 1, 1, 1, 0, 1): 2,\n",
    "(1, 0, 1, 1, 0, 1, 1): 3,\n",
    "(0, 1, 1, 1, 0, 1, 0): 4,\n",
    "(1, 1, 0, 1, 0, 1, 1): 5,\n",
    "(1, 1, 0, 1, 1, 1, 1): 6,\n",
    "(1, 0, 1, 0, 0, 1, 0): 7,\n",
    "(1, 1, 1, 1, 1, 1, 1): 8,\n",
    "(1, 1, 1, 1, 0, 1, 1): 9\n",
    "}\n",
    "\n",
    "# List to track active elements\n",
    "active_segments = [0,0,0,0,0,0,0]\n",
    "\n",
    "# Total number of pixels per segments\n",
    "num_pixels_segment = 20*128\n",
    "# Total sum of pixel values per segments\n",
    "sum_segment = num_pixels_segment * 255\n",
    "\n",
    "# Reading a digit image\n",
    "image = cv2.imread(\"9.png\" ,cv2.IMREAD_GRAYSCALE)\n",
    "\n",
    "# Check what segment is active\n",
    "s = np.sum(image[0:20,:])\n",
    "if s == sum_segment:\n",
    "    active_segments[0] = 1\n",
    "    \n",
    "s = np.sum(image[0:128,0:20]) \n",
    "if s == sum_segment:\n",
    "    active_segments[1] = 1\n",
    "\n",
    "s = np.sum(image[0:128,-20:]) \n",
    "if s == sum_segment:\n",
    "    active_segments[2] = 1\n",
    "    \n",
    "s = np.sum(image[118:138,:]) \n",
    "if s == sum_segment:\n",
    "    active_segments[3] = 1\n",
    "    \n",
    "s = np.sum(image[128:,0:20]) \n",
    "if s == sum_segment:\n",
    "    active_segments[4] = 1\n",
    "    \n",
    "s = np.sum(image[128:,-20:]) \n",
    "if s == sum_segment:\n",
    "    active_segments[5] = 1\n",
    "    \n",
    "s = np.sum(image[-20:,:]) \n",
    "if s == sum_segment:\n",
    "    active_segments[6] = 1\n",
    "\n",
    "\n",
    "print(\"Active segments are: \", active_segments)\n",
    "\n",
    "# Get the result from the dictionary\n",
    "result = SEGMENTS_DIGITS[tuple(active_segments)]\n",
    "print(\"The digits in the image is: \", result)"
   ]
  }
 ],
 "metadata": {
  "kernelspec": {
   "display_name": "Python 3",
   "language": "python",
   "name": "python3"
  },
  "language_info": {
   "codemirror_mode": {
    "name": "ipython",
    "version": 3
   },
   "file_extension": ".py",
   "mimetype": "text/x-python",
   "name": "python",
   "nbconvert_exporter": "python",
   "pygments_lexer": "ipython3",
   "version": "3.5.2"
  }
 },
 "nbformat": 4,
 "nbformat_minor": 2
}
